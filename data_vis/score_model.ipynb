{
 "cells": [
  {
   "cell_type": "markdown",
   "metadata": {},
   "source": [
    "# Building FF Scoring Model"
   ]
  },
  {
   "cell_type": "code",
   "execution_count": 8,
   "metadata": {},
   "outputs": [],
   "source": [
    "import pandas as pd\n",
    "import numpy as np\n",
    "import os\n",
    "from sklearn.model_selection import train_test_split\n",
    "import torch\n",
    "from torch import nn\n",
    "from torch.utils.data import TensorDataset, DataLoader"
   ]
  },
  {
   "cell_type": "markdown",
   "metadata": {},
   "source": [
    "# Data Loading"
   ]
  },
  {
   "cell_type": "code",
   "execution_count": 14,
   "metadata": {},
   "outputs": [],
   "source": [
    "caption_path = \"./caption_data\"\n",
    "relevant_columns = [\"cap_feat\", \"img_feat\", \"mean\"]\n",
    "df_list = []\n",
    "for pkl in os.listdir(caption_path):\n",
    "    pkl_path = os.path.join(caption_path, pkl)\n",
    "    img_df = pd.read_pickle(pkl_path)[relevant_columns]\n",
    "    df_list.append(img_df)\n"
   ]
  },
  {
   "cell_type": "code",
   "execution_count": 17,
   "metadata": {},
   "outputs": [
    {
     "name": "stdout",
     "output_type": "stream",
     "text": [
      "                                            cap_feat  \\\n",
      "0  [0.011870803, -0.006262237, -0.03857191, 0.050...   \n",
      "1  [0.026949111, 0.007988956, -0.043752477, 0.063...   \n",
      "2  [0.014411536, 0.003357767, -0.035420828, 0.022...   \n",
      "3  [0.035097554, 0.045470487, -0.015568391, 0.067...   \n",
      "4  [-0.024375904, 0.035241786, -0.022204943, 0.06...   \n",
      "\n",
      "                                            img_feat      mean  \n",
      "0  [[-0.05705367, -0.07593712, 0.01871802, 0.0108...  1.828421  \n",
      "1  [[-0.05705367, -0.07593712, 0.01871802, 0.0108...  1.787506  \n",
      "2  [[-0.05705367, -0.07593712, 0.01871802, 0.0108...  1.776693  \n",
      "3  [[-0.05705367, -0.07593712, 0.01871802, 0.0108...  1.740367  \n",
      "4  [[-0.05705367, -0.07593712, 0.01871802, 0.0108...  1.699167  \n",
      "1981466\n"
     ]
    }
   ],
   "source": [
    "data_df = pd.concat(df_list)\n",
    "# print(data_df.head(5))\n",
    "# print(len(data_df.index))"
   ]
  },
  {
   "cell_type": "code",
   "execution_count": 19,
   "metadata": {},
   "outputs": [],
   "source": [
    "# Assuming df is your DataFrame\n",
    "\n",
    "# Combine the embeddings into a single feature array\n",
    "# Note: This assumes 'cap_feat' and 'img_feat' are each a list or array of 512 floats.\n",
    "X = np.hstack([np.vstack(data_df['img_feat'].values), np.vstack(data_df['cap_feat'].values)])\n",
    "\n",
    "# Your target variable\n",
    "y = data_df['mean'].values/2\n",
    "\n",
    "# Split into training and testing sets\n",
    "X_train, X_test, y_train, y_test = train_test_split(X, y, test_size=0.2, random_state=42)"
   ]
  },
  {
   "cell_type": "code",
   "execution_count": 20,
   "metadata": {},
   "outputs": [],
   "source": [
    "class HumorRatingNN(nn.Module):\n",
    "    def __init__(self):\n",
    "        super(HumorRatingNN, self).__init__()\n",
    "        \n",
    "        self.fc1 = nn.Linear(1024, 512) # 1024 inputs (512 from image + 512 from caption), to 512 outputs\n",
    "        self.relu = nn.ReLU()\n",
    "        self.fc2 = nn.Linear(512, 256)  # 512 inputs to 256 outputs\n",
    "        self.fc3 = nn.Linear(256, 1)    # 256 inputs to 1 output (your mean humor rating)\n",
    "        \n",
    "    def forward(self, x):\n",
    "        x = self.relu(self.fc1(x))\n",
    "        x = self.relu(self.fc2(x))\n",
    "        x = self.fc3(x)  # No activation here, as we're predicting a continuous value\n",
    "        return x"
   ]
  },
  {
   "cell_type": "code",
   "execution_count": 21,
   "metadata": {},
   "outputs": [
    {
     "name": "stderr",
     "output_type": "stream",
     "text": [
      "/Users/echen/miniforge3/envs/DVA/lib/python3.12/site-packages/tqdm/auto.py:21: TqdmWarning: IProgress not found. Please update jupyter and ipywidgets. See https://ipywidgets.readthedocs.io/en/stable/user_install.html\n",
      "  from .autonotebook import tqdm as notebook_tqdm\n"
     ]
    }
   ],
   "source": [
    "# Convert data to PyTorch tensors\n",
    "train_data = TensorDataset(torch.Tensor(X_train), torch.Tensor(y_train))\n",
    "test_data = TensorDataset(torch.Tensor(X_test), torch.Tensor(y_test))\n",
    "\n",
    "# Create data loaders\n",
    "train_loader = DataLoader(train_data, batch_size=64, shuffle=True)\n",
    "test_loader = DataLoader(test_data, batch_size=64, shuffle=False)\n",
    "\n",
    "# Initialize the model, loss function, and optimizer\n",
    "model = HumorRatingNN()\n",
    "criterion = nn.MSELoss()  # Mean Squared Error Loss\n",
    "optimizer = torch.optim.Adam(model.parameters(), lr=0.001)"
   ]
  },
  {
   "cell_type": "code",
   "execution_count": 22,
   "metadata": {},
   "outputs": [
    {
     "name": "stdout",
     "output_type": "stream",
     "text": [
      "Epoch 1, Loss: 0.006202187389135361\n"
     ]
    }
   ],
   "source": [
    "\n",
    "# Training loop\n",
    "num_epochs = 10\n",
    "for epoch in range(num_epochs):\n",
    "    model.train()\n",
    "    for inputs, targets in train_loader:\n",
    "        optimizer.zero_grad()\n",
    "        outputs = model(inputs)\n",
    "        loss = criterion(outputs.squeeze(), targets)\n",
    "        loss.backward()\n",
    "        optimizer.step()\n",
    "    \n",
    "    print(f'Epoch {epoch+1}, Loss: {loss.item()}')"
   ]
  }
 ],
 "metadata": {
  "kernelspec": {
   "display_name": "DVA",
   "language": "python",
   "name": "python3"
  },
  "language_info": {
   "codemirror_mode": {
    "name": "ipython",
    "version": 3
   },
   "file_extension": ".py",
   "mimetype": "text/x-python",
   "name": "python",
   "nbconvert_exporter": "python",
   "pygments_lexer": "ipython3",
   "version": "3.12.2"
  }
 },
 "nbformat": 4,
 "nbformat_minor": 2
}
