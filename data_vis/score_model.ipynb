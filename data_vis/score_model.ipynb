{
 "cells": [
  {
   "cell_type": "markdown",
   "metadata": {},
   "source": [
    "# Building FF Scoring Model"
   ]
  },
  {
   "cell_type": "code",
   "execution_count": 1,
   "metadata": {},
   "outputs": [],
   "source": [
    "import pandas as pd\n",
    "import numpy as np\n",
    "import os\n",
    "from sklearn.model_selection import train_test_split\n",
    "import torch\n",
    "from torch import nn\n",
    "from torch.utils.data import TensorDataset, DataLoader\n",
    "from tqdm import tqdm"
   ]
  },
  {
   "cell_type": "code",
   "execution_count": 2,
   "metadata": {},
   "outputs": [
    {
     "name": "stdout",
     "output_type": "stream",
     "text": [
      "Using device: cuda\n"
     ]
    }
   ],
   "source": [
    "DEVICE = torch.device(\"cuda\" if torch.cuda.is_available() else \"cpu\")\n",
    "print(f\"Using device: {DEVICE}\")"
   ]
  },
  {
   "cell_type": "markdown",
   "metadata": {},
   "source": [
    "# Data Loading"
   ]
  },
  {
   "cell_type": "code",
   "execution_count": 3,
   "metadata": {},
   "outputs": [],
   "source": [
    "caption_path = \"./caption_data\"\n",
    "relevant_columns = [\"cap_feat\", \"img_feat\", \"mean\"]\n",
    "df_list = []\n",
    "for pkl in os.listdir(caption_path):\n",
    "    pkl_path = os.path.join(caption_path, pkl)\n",
    "    img_df = pd.read_pickle(pkl_path)[relevant_columns]\n",
    "    df_list.append(img_df)\n"
   ]
  },
  {
   "cell_type": "code",
   "execution_count": 4,
   "metadata": {},
   "outputs": [],
   "source": [
    "data_df = pd.concat(df_list)\n",
    "# print(data_df.head(5))\n",
    "# print(len(data_df.index))"
   ]
  },
  {
   "cell_type": "code",
   "execution_count": 5,
   "metadata": {},
   "outputs": [],
   "source": [
    "# Assuming df is your DataFrame\n",
    "\n",
    "# Combine the embeddings into a single feature array\n",
    "# Note: This assumes 'cap_feat' and 'img_feat' are each a list or array of 512 floats.\n",
    "X = np.hstack([np.vstack(data_df['img_feat'].values), np.vstack(data_df['cap_feat'].values)])\n",
    "\n",
    "# Your target variable\n",
    "y = data_df['mean'].values\n",
    "\n",
    "# Split into training and testing sets\n",
    "X_train, X_test, y_train, y_test = train_test_split(X, y, test_size=0.2, random_state=42)"
   ]
  },
  {
   "cell_type": "code",
   "execution_count": 6,
   "metadata": {},
   "outputs": [],
   "source": [
    "class HumorRatingNN(nn.Module):\n",
    "    def __init__(self):\n",
    "        super(HumorRatingNN, self).__init__()\n",
    "        \n",
    "        self.fc1 = nn.Linear(1024, 512) # 1024 inputs (512 from image + 512 from caption), to 512 outputs\n",
    "        self.relu = nn.ReLU()\n",
    "        self.fc2 = nn.Linear(512, 256)  # 512 inputs to 256 outputs\n",
    "        self.fc3 = nn.Linear(256, 1)    # 256 inputs to 1 output (your mean humor rating)\n",
    "        \n",
    "        self.to(DEVICE)\n",
    "        \n",
    "    def forward(self, x):\n",
    "        x = self.relu(self.fc1(x))\n",
    "        x = self.relu(self.fc2(x))\n",
    "        x = self.fc3(x)  # No activation here, as we're predicting a continuous value\n",
    "        return x"
   ]
  },
  {
   "cell_type": "code",
   "execution_count": 7,
   "metadata": {},
   "outputs": [],
   "source": [
    "# Convert data to PyTorch tensors\n",
    "train_tensor_x = torch.Tensor(X_train).to(DEVICE)\n",
    "train_tensor_y = torch.Tensor(y_train).to(DEVICE)\n",
    "test_tensor_x = torch.Tensor(X_test).to(DEVICE)\n",
    "test_tensor_y = torch.Tensor(y_test).to(DEVICE)\n",
    "\n",
    "# Create TensorDatasets\n",
    "train_data = TensorDataset(train_tensor_x, train_tensor_y)\n",
    "test_data = TensorDataset(test_tensor_x, test_tensor_y)\n",
    "\n",
    "# Create data loaders\n",
    "train_loader = DataLoader(train_data, batch_size=64, shuffle=True)\n",
    "test_loader = DataLoader(test_data, batch_size=64, shuffle=False)\n",
    "\n",
    "# Initialize the model, loss function, and optimizer\n",
    "model = HumorRatingNN()\n",
    "criterion = nn.MSELoss()  # Mean Squared Error Loss\n",
    "optimizer = torch.optim.Adam(model.parameters(), lr=0.001)"
   ]
  },
  {
   "cell_type": "code",
   "execution_count": 8,
   "metadata": {},
   "outputs": [
    {
     "name": "stderr",
     "output_type": "stream",
     "text": [
      " 10%|█         | 1/10 [00:37<05:33, 37.08s/it]"
     ]
    },
    {
     "name": "stdout",
     "output_type": "stream",
     "text": [
      "Epoch 1, Loss: 0.02077396772801876\n"
     ]
    },
    {
     "name": "stderr",
     "output_type": "stream",
     "text": [
      " 20%|██        | 2/10 [01:04<04:12, 31.62s/it]"
     ]
    },
    {
     "name": "stdout",
     "output_type": "stream",
     "text": [
      "Epoch 2, Loss: 0.022775467485189438\n"
     ]
    },
    {
     "name": "stderr",
     "output_type": "stream",
     "text": [
      " 30%|███       | 3/10 [01:32<03:27, 29.68s/it]"
     ]
    },
    {
     "name": "stdout",
     "output_type": "stream",
     "text": [
      "Epoch 3, Loss: 0.011568046174943447\n"
     ]
    },
    {
     "name": "stderr",
     "output_type": "stream",
     "text": [
      " 40%|████      | 4/10 [01:59<02:52, 28.71s/it]"
     ]
    },
    {
     "name": "stdout",
     "output_type": "stream",
     "text": [
      "Epoch 4, Loss: 0.02611869014799595\n"
     ]
    },
    {
     "name": "stderr",
     "output_type": "stream",
     "text": [
      " 50%|█████     | 5/10 [02:26<02:20, 28.00s/it]"
     ]
    },
    {
     "name": "stdout",
     "output_type": "stream",
     "text": [
      "Epoch 5, Loss: 0.012907912023365498\n"
     ]
    },
    {
     "name": "stderr",
     "output_type": "stream",
     "text": [
      " 60%|██████    | 6/10 [02:53<01:50, 27.63s/it]"
     ]
    },
    {
     "name": "stdout",
     "output_type": "stream",
     "text": [
      "Epoch 6, Loss: 0.018103918060660362\n"
     ]
    },
    {
     "name": "stderr",
     "output_type": "stream",
     "text": [
      " 70%|███████   | 7/10 [03:20<01:22, 27.40s/it]"
     ]
    },
    {
     "name": "stdout",
     "output_type": "stream",
     "text": [
      "Epoch 7, Loss: 0.010551112703979015\n"
     ]
    },
    {
     "name": "stderr",
     "output_type": "stream",
     "text": [
      " 80%|████████  | 8/10 [03:47<00:54, 27.28s/it]"
     ]
    },
    {
     "name": "stdout",
     "output_type": "stream",
     "text": [
      "Epoch 8, Loss: 0.01554368156939745\n"
     ]
    },
    {
     "name": "stderr",
     "output_type": "stream",
     "text": [
      " 90%|█████████ | 9/10 [04:13<00:27, 27.06s/it]"
     ]
    },
    {
     "name": "stdout",
     "output_type": "stream",
     "text": [
      "Epoch 9, Loss: 0.015414169989526272\n"
     ]
    },
    {
     "name": "stderr",
     "output_type": "stream",
     "text": [
      "100%|██████████| 10/10 [04:40<00:00, 28.05s/it]"
     ]
    },
    {
     "name": "stdout",
     "output_type": "stream",
     "text": [
      "Epoch 10, Loss: 0.008528538979589939\n"
     ]
    },
    {
     "name": "stderr",
     "output_type": "stream",
     "text": [
      "\n"
     ]
    }
   ],
   "source": [
    "# Training loop\n",
    "num_epochs = 10\n",
    "for epoch in tqdm(range(num_epochs)):\n",
    "    model.train()\n",
    "    for inputs, targets in train_loader:\n",
    "        optimizer.zero_grad()\n",
    "        outputs = model(inputs)\n",
    "        loss = criterion(outputs.squeeze(), targets)\n",
    "        loss.backward()\n",
    "        optimizer.step()\n",
    "    \n",
    "    print(f'Epoch {epoch+1}, Loss: {loss.item()}')"
   ]
  },
  {
   "cell_type": "code",
   "execution_count": 9,
   "metadata": {},
   "outputs": [
    {
     "name": "stdout",
     "output_type": "stream",
     "text": [
      "Test Loss: 0.0132\n",
      "Test RMSE: 0.1137\n"
     ]
    }
   ],
   "source": [
    "# Function to compute the root mean squared error\n",
    "def rmse(predictions, targets):\n",
    "    return torch.sqrt(((predictions - targets) ** 2).mean())\n",
    "\n",
    "# Model evaluation\n",
    "model.eval()  # Set the model to evaluation mode\n",
    "test_loss = 0\n",
    "total_rmse = 0\n",
    "\n",
    "with torch.no_grad():  # Inference mode, gradient is not computed\n",
    "    for inputs, targets in test_loader:\n",
    "        inputs, targets = inputs.to(DEVICE), targets.to(DEVICE)\n",
    "        outputs = model(inputs)\n",
    "        loss = criterion(outputs.squeeze(), targets)\n",
    "        test_loss += loss.item()  # Sum up batch loss\n",
    "        total_rmse += rmse(outputs.squeeze(), targets).item()\n",
    "\n",
    "# Calculate average losses\n",
    "test_loss /= len(test_loader)\n",
    "total_rmse /= len(test_loader)\n",
    "\n",
    "print(f'Test Loss: {test_loss:.4f}')\n",
    "print(f'Test RMSE: {total_rmse:.4f}')"
   ]
  },
  {
   "cell_type": "code",
   "execution_count": 42,
   "metadata": {},
   "outputs": [
    {
     "name": "stdout",
     "output_type": "stream",
     "text": [
      "Model Output: 1.1956510543823242\n",
      "Ground Truth: 1.334975369458128\n"
     ]
    }
   ],
   "source": [
    "row = data_df.sample().iloc[0]\n",
    "img_feat = row['img_feat']\n",
    "cap_feat = row['cap_feat']\n",
    "mean = row['mean']\n",
    "\n",
    "model_in = torch.Tensor(np.concatenate((img_feat, cap_feat), axis=None)).to(DEVICE)\n",
    "\n",
    "model.eval()  # Set the model to evaluation mode\n",
    "\n",
    "with torch.no_grad():  # Inference mode, gradient is not computed\n",
    "    model_out = model(model_in).item()\n",
    "    \n",
    "print(\"Model Output:\", model_out)\n",
    "print(\"Ground Truth:\", mean)"
   ]
  },
  {
   "cell_type": "code",
   "execution_count": 11,
   "metadata": {},
   "outputs": [
    {
     "data": {
      "text/html": [
       "<a href='humor_rating_model.pth' target='_blank'>humor_rating_model.pth</a><br>"
      ],
      "text/plain": [
       "c:\\Users\\Admin\\Documents\\CS\\6242\\CSE6242-Columnists\\data_vis\\humor_rating_model.pth"
      ]
     },
     "execution_count": 11,
     "metadata": {},
     "output_type": "execute_result"
    }
   ],
   "source": [
    "# Save the model parameters\n",
    "model_path = 'humor_rating_model.pth'\n",
    "torch.save(model.state_dict(), model_path)"
   ]
  }
 ],
 "metadata": {
  "kernelspec": {
   "display_name": "DVA",
   "language": "python",
   "name": "python3"
  },
  "language_info": {
   "codemirror_mode": {
    "name": "ipython",
    "version": 3
   },
   "file_extension": ".py",
   "mimetype": "text/x-python",
   "name": "python",
   "nbconvert_exporter": "python",
   "pygments_lexer": "ipython3",
   "version": "3.12.2"
  }
 },
 "nbformat": 4,
 "nbformat_minor": 2
}
