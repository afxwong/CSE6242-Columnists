{
 "cells": [
  {
   "cell_type": "code",
   "execution_count": 1,
   "metadata": {},
   "outputs": [
    {
     "name": "stderr",
     "output_type": "stream",
     "text": [
      "<frozen importlib._bootstrap>:219: RuntimeWarning: scipy._lib.messagestream.MessageStream size changed, may indicate binary incompatibility. Expected 56 from C header, got 64 from PyObject\n"
     ]
    }
   ],
   "source": [
    "from PIL import Image\n",
    "import requests\n",
    "import matplotlib.pyplot as plt\n",
    "import numpy as np\n",
    "import scipy\n",
    "import pandas as pd\n",
    "import os\n",
    "from sklearn.manifold import TSNE\n",
    "from sklearn.decomposition import PCA\n",
    "from tqdm import tqdm\n",
    "from transformers import CLIPProcessor, CLIPModel\n",
    "from transformers import logging\n",
    "logging.set_verbosity_error()"
   ]
  },
  {
   "cell_type": "code",
   "execution_count": 2,
   "metadata": {},
   "outputs": [],
   "source": [
    "# model = CLIPModel.from_pretrained(\"openai/clip-vit-large-patch14\")\n",
    "# processor = CLIPProcessor.from_pretrained(\"openai/clip-vit-large-patch14\")\n",
    "# model = CLIPModel.from_pretrained(\"openai/clip-vit-base-patch32\")\n",
    "# processor = CLIPProcessor.from_pretrained(\"openai/clip-vit-base-patch32\")"
   ]
  },
  {
   "cell_type": "code",
   "execution_count": 3,
   "metadata": {},
   "outputs": [],
   "source": [
    "from transformers import CLIPConfig, CLIPTextConfig, CLIPVisionConfig\n",
    "\n",
    "config_text = CLIPTextConfig(max_position_embeddings=512)\n",
    "config_vision = CLIPVisionConfig()\n",
    "\n",
    "config = CLIPConfig.from_text_vision_configs(config_text, config_vision)\n",
    "config.name_or_path = \"openai/clip-vit-base-patch32\"\n",
    "\n",
    "model = CLIPModel(config)\n",
    "processor = CLIPProcessor.from_pretrained(\"openai/clip-vit-base-patch32\")"
   ]
  },
  {
   "cell_type": "code",
   "execution_count": 4,
   "metadata": {},
   "outputs": [
    {
     "name": "stdout",
     "output_type": "stream",
     "text": [
      "151500033\n"
     ]
    }
   ],
   "source": [
    "print(model.num_parameters()) # 427616513 params for large-patch14\n",
    "                              # 151277313 params for base-patch32\n",
    "                              # 149620737 params for base-patch16"
   ]
  },
  {
   "cell_type": "code",
   "execution_count": 5,
   "metadata": {},
   "outputs": [],
   "source": [
    "# # boilerplate code from huggingface docs\n",
    "# url = \"http://images.cocodataset.org/val2017/000000039769.jpg\"\n",
    "# image = Image.open(requests.get(url, stream=True).raw)\n",
    "# plt.imshow(image)\n",
    "# inputs = processor(text=[\"a photo of a cat\", \"a photo of a dog\"], images=image, return_tensors=\"pt\", padding=True)\n",
    "\n",
    "# outputs = model(**inputs)\n",
    "# logits_per_image = outputs.logits_per_image # this is the image-text similarity score\n",
    "# probs = logits_per_image.softmax(dim=1) # we can take the softmax to get the label probabilities\n",
    "# print(outputs.text_embeds.shape)"
   ]
  },
  {
   "cell_type": "code",
   "execution_count": 6,
   "metadata": {},
   "outputs": [
    {
     "name": "stdout",
     "output_type": "stream",
     "text": [
      "extra_img:  890.jpg\n"
     ]
    }
   ],
   "source": [
    "# Loading data\n",
    "caption_path = \"./summaries\"\n",
    "cartoon_path = \"./cartoons\"\n",
    "ids = set()\n",
    "cap_paths = []\n",
    "img_paths = []\n",
    "for file in os.listdir(caption_path):\n",
    "    file_path = os.path.join(caption_path, file)\n",
    "    if not os.path.isfile(file_path) or file[-3:]!='csv' or file[:3] in ids:\n",
    "        continue\n",
    "    ids.add(file[:3])\n",
    "    cap_paths.append(file_path)\n",
    "for file in os.listdir(cartoon_path):\n",
    "    file_path = os.path.join(cartoon_path, file)\n",
    "    if not os.path.isfile(file_path) or file[-3:]!='jpg':\n",
    "        continue\n",
    "    if file[:3] not in ids: \n",
    "        print(\"extra_img: \", file)\n",
    "        continue\n",
    "    img_paths.append(file_path)\n",
    "id_list = list(ids)\n",
    "id_list.sort()\n",
    "cap_paths.sort()\n",
    "img_paths.sort()\n",
    "assert(len(img_paths) == len(cap_paths))"
   ]
  },
  {
   "cell_type": "code",
   "execution_count": 7,
   "metadata": {},
   "outputs": [],
   "source": [
    "# pca = PCA(n_components=50)\n",
    "# condensed_data = pca.fit_transform(img1_cap)\n",
    "# print(condensed_data.shape, np.max(condensed_data), np.min(condensed_data))\n",
    "# tsne = TSNE()\n",
    "# tsne_embeds = tsne.fit_transform(condensed_data)\n",
    "# norm_tsne_embeds = np.zeros(tsne_embeds.shape)\n",
    "# mins = np.min(tsne_embeds, axis=0, keepdims=True)\n",
    "# maxes = np.max(tsne_embeds, axis=0, keepdims=True)\n",
    "# norm_tsne_embeds = (tsne_embeds-mins)/(maxes-mins)\n",
    "# print(norm_tsne_embeds.shape, np.max(norm_tsne_embeds), np.min(norm_tsne_embeds))\n",
    "# print(norm_tsne_embeds[:5])"
   ]
  },
  {
   "cell_type": "markdown",
   "metadata": {},
   "source": [
    "# TSNE Processing Functions"
   ]
  },
  {
   "cell_type": "code",
   "execution_count": 8,
   "metadata": {},
   "outputs": [],
   "source": [
    "def get_embeds(model, image, caption_list):\n",
    "    inputs = processor(text=caption_list, images=image, return_tensors=\"pt\", padding=True)\n",
    "    outputs = model(**inputs)\n",
    "    text_embeds = outputs.text_embeds.detach().numpy()\n",
    "    img_embeds = outputs.image_embeds.detach().numpy()\n",
    "    return text_embeds, img_embeds"
   ]
  },
  {
   "cell_type": "code",
   "execution_count": 9,
   "metadata": {},
   "outputs": [],
   "source": [
    "pca = PCA(n_components=50)\n",
    "tsne = TSNE()\n",
    "def get_tsne_embeds(img_df):\n",
    "    caps = img_df[\"cap_feat\"]\n",
    "    cap_data = np.vstack(caps)\n",
    "    condensed_data = pca.fit_transform(cap_data)\n",
    "    tsne_embeds = tsne.fit_transform(condensed_data)\n",
    "    norm_tsne_embeds = np.zeros(tsne_embeds.shape)\n",
    "    mins = np.min(tsne_embeds, axis=0, keepdims=True)\n",
    "    maxes = np.max(tsne_embeds, axis=0, keepdims=True)\n",
    "    norm_tsne_embeds = (tsne_embeds-mins)/(maxes-mins)\n",
    "    norm_tsne_embeds_df = pd.DataFrame({'X': norm_tsne_embeds[:,0], 'Y': norm_tsne_embeds[:,1], \"caption\": caps})\n",
    "    return norm_tsne_embeds_df"
   ]
  },
  {
   "cell_type": "code",
   "execution_count": 10,
   "metadata": {},
   "outputs": [],
   "source": [
    "def filter_long_captions(cap_df, filter_len=50):\n",
    "    cap_df['sentence_len'] = cap_df['caption'].apply(lambda x: len(x.split()))\n",
    "    return cap_df[cap_df['sentence_len'] <= filter_len].reset_index()"
   ]
  },
  {
   "cell_type": "code",
   "execution_count": 11,
   "metadata": {},
   "outputs": [],
   "source": [
    "batch_size = 32\n",
    "def get_embeds_from_path(img_id, img_path, cap_path, batch_size=32, filter_len=100):\n",
    "    df_list = []\n",
    "    img = Image.open(img_path)\n",
    "    inputs = processor(text=['test'], images=img, return_tensors=\"pt\", padding=True)\n",
    "    img_feat = model(**inputs).image_embeds.detach().numpy()\n",
    "    cap_csv = pd.read_csv(cap_path)\n",
    "    cap_csv = filter_long_captions(cap_csv, filter_len)\n",
    "    cap_csv[\"img_id\"] = img_id\n",
    "    cap_csv[\"cap_feat\"] = None\n",
    "    cap_csv[\"img_feat\"] = [img_feat]*len(cap_csv.index)\n",
    "    caption_list = []\n",
    "    for idx,row in cap_csv.iterrows():\n",
    "        caption_list.append(row['caption'])\n",
    "        if (idx == (len(cap_csv.index)-1)):\n",
    "            text_embeds, _ = get_embeds(model, img, caption_list)\n",
    "            for i,embed in enumerate(text_embeds):\n",
    "                cap_csv.at[idx-len(text_embeds)+1+i,\"cap_feat\"] = text_embeds[i]\n",
    "            caption_list = []\n",
    "        if (len(caption_list) != batch_size):\n",
    "            continue\n",
    "        text_embeds, _ = get_embeds(model, img, caption_list)\n",
    "        for i,embed in enumerate(text_embeds):\n",
    "            cap_csv.at[idx-batch_size+1+i,\"cap_feat\"] = text_embeds[i]\n",
    "        caption_list = []\n",
    "    df_list.append(cap_csv)\n",
    "    return pd.concat(df_list)"
   ]
  },
  {
   "cell_type": "code",
   "execution_count": 12,
   "metadata": {},
   "outputs": [],
   "source": [
    "# relevant_columns = [\"caption\", \"img_id\", \"mean\",\"votes\"]\n",
    "# def process_dataset_tsne(id_list, img_paths, cap_paths):\n",
    "#     tsne_list = []\n",
    "#     cap_list = []\n",
    "#     for img_id, img_path, cap_path in zip(id_list, img_paths, cap_paths):\n",
    "#         # process for TSNE data\n",
    "\n",
    "#         img_df = get_embeds_from_path(img_id, img_path, cap_path)\n",
    "#         tsne_feats = get_tsne_embeds(img_df)\n",
    "#         tsne_feats[\"img_id\"] = img_id\n",
    "#         tsne_list.append(tsne_feats)\n",
    "\n",
    "#         # save complete dataset\n",
    "#         cap_csv = pd.read_csv(cap_path)\n",
    "#         cap_csv[\"img_id\"] = img_id\n",
    "#         # print(list(cap_csv.columns))\n",
    "#         cap_list.append(cap_csv[relevant_columns])\n",
    "#         # break\n",
    "\n",
    "#     return pd.concat(tsne_list), pd.concat(cap_list)"
   ]
  },
  {
   "cell_type": "markdown",
   "metadata": {},
   "source": [
    "# Create complete TSNE DataFrame"
   ]
  },
  {
   "cell_type": "code",
   "execution_count": 13,
   "metadata": {},
   "outputs": [],
   "source": [
    "relevant_columns = ['rank', 'caption', 'mean', 'precision', 'votes', 'not_funny', 'somewhat_funny', 'funny', 'img_id', 'cap_feat', 'img_feat']\n",
    "def process_dataset(id_list, img_paths, cap_paths):\n",
    "    ################################################################\n",
    "    # Processes all data to get the relevant columns and tsne data #\n",
    "    ################################################################\n",
    "    cap_folder = 'caption_data'  # Folder to save cap_df files\n",
    "    tsne_folder = 'tsne_data'  # Folder to save tsne_df files\n",
    "    \n",
    "    # Ensure the folders exist\n",
    "    os.makedirs(cap_folder, exist_ok=True)\n",
    "    os.makedirs(tsne_folder, exist_ok=True)\n",
    "    \n",
    "    cap_failed_ids = []\n",
    "    tsne_failed_ids = []\n",
    "    \n",
    "    for img_id, img_path, cap_path in tqdm(zip(id_list, img_paths, cap_paths), total=len(id_list)):\n",
    "        # Define file paths\n",
    "        cap_file_path = os.path.join(cap_folder, f'cap_df_{img_id}.pkl')\n",
    "        tsne_file_path = os.path.join(tsne_folder, f'tsne_df_{img_id}.pkl')\n",
    "        \n",
    "        if (not os.path.exists(cap_file_path)) and (not os.path.exists(tsne_file_path)):\n",
    "            print(\"Running for image id:\", img_id)\n",
    "            try:\n",
    "                cap_df = get_embeds_from_path(img_id, img_path, cap_path)\n",
    "                cap_df.to_pickle(cap_file_path)\n",
    "                try:\n",
    "                    tsne_df = get_tsne_embeds(cap_df)\n",
    "                    tsne_df[\"img_id\"] = img_id\n",
    "                    tsne_df.to_pickle(tsne_file_path)\n",
    "                    print(f'Saved: {cap_file_path} and {tsne_file_path}')\n",
    "                except:\n",
    "                    tsne_failed_ids.append(img_id)\n",
    "                \n",
    "            except:\n",
    "                cap_failed_ids.append(img_id)\n",
    "    print('cap_failed_ids:', cap_failed_ids)\n",
    "    print('tsne_failed_ids:', tsne_failed_ids)\n",
    "    print('Equal:', tsne_failed_ids == cap_failed_ids)\n",
    "    return cap_failed_ids, tsne_failed_ids"
   ]
  },
  {
   "cell_type": "code",
   "execution_count": 14,
   "metadata": {},
   "outputs": [
    {
     "name": "stderr",
     "output_type": "stream",
     "text": [
      "  0%|          | 0/379 [00:00<?, ?it/s]"
     ]
    },
    {
     "name": "stdout",
     "output_type": "stream",
     "text": [
      "Running for image id: 661\n"
     ]
    },
    {
     "name": "stderr",
     "output_type": "stream",
     "text": [
      " 40%|███▉      | 151/379 [00:00<00:00, 784.86it/s]"
     ]
    },
    {
     "name": "stdout",
     "output_type": "stream",
     "text": [
      "Running for image id: 662\n"
     ]
    },
    {
     "name": "stderr",
     "output_type": "stream",
     "text": [
      " 40%|████      | 152/379 [01:16<02:42,  1.40it/s] "
     ]
    },
    {
     "name": "stdout",
     "output_type": "stream",
     "text": [
      "Saved: caption_data\\cap_df_662.pkl and tsne_data\\tsne_df_662.pkl\n",
      "Running for image id: 663\n"
     ]
    },
    {
     "name": "stderr",
     "output_type": "stream",
     "text": [
      " 40%|████      | 153/379 [02:19<05:47,  1.54s/it]"
     ]
    },
    {
     "name": "stdout",
     "output_type": "stream",
     "text": [
      "Saved: caption_data\\cap_df_663.pkl and tsne_data\\tsne_df_663.pkl\n",
      "Running for image id: 664\n"
     ]
    },
    {
     "name": "stderr",
     "output_type": "stream",
     "text": [
      " 41%|████      | 154/379 [03:26<10:19,  2.75s/it]"
     ]
    },
    {
     "name": "stdout",
     "output_type": "stream",
     "text": [
      "Saved: caption_data\\cap_df_664.pkl and tsne_data\\tsne_df_664.pkl\n",
      "Running for image id: 665\n"
     ]
    },
    {
     "name": "stderr",
     "output_type": "stream",
     "text": [
      " 41%|████      | 155/379 [04:45<17:36,  4.72s/it]"
     ]
    },
    {
     "name": "stdout",
     "output_type": "stream",
     "text": [
      "Saved: caption_data\\cap_df_665.pkl and tsne_data\\tsne_df_665.pkl\n",
      "Running for image id: 666\n"
     ]
    },
    {
     "name": "stderr",
     "output_type": "stream",
     "text": [
      " 41%|████      | 156/379 [06:08<27:53,  7.50s/it]"
     ]
    },
    {
     "name": "stdout",
     "output_type": "stream",
     "text": [
      "Saved: caption_data\\cap_df_666.pkl and tsne_data\\tsne_df_666.pkl\n",
      "Running for image id: 667\n"
     ]
    },
    {
     "name": "stderr",
     "output_type": "stream",
     "text": [
      " 41%|████▏     | 157/379 [07:27<40:33, 10.96s/it]"
     ]
    },
    {
     "name": "stdout",
     "output_type": "stream",
     "text": [
      "Saved: caption_data\\cap_df_667.pkl and tsne_data\\tsne_df_667.pkl\n",
      "Running for image id: 668\n"
     ]
    },
    {
     "name": "stderr",
     "output_type": "stream",
     "text": [
      " 42%|████▏     | 159/379 [08:21<46:10, 12.59s/it]"
     ]
    },
    {
     "name": "stdout",
     "output_type": "stream",
     "text": [
      "Saved: caption_data\\cap_df_668.pkl and tsne_data\\tsne_df_668.pkl\n",
      "Running for image id: 669\n",
      "Running for image id: 670\n",
      "Running for image id: 671\n",
      "Running for image id: 672\n"
     ]
    },
    {
     "name": "stderr",
     "output_type": "stream",
     "text": [
      " 43%|████▎     | 162/379 [09:25<53:45, 14.86s/it]"
     ]
    },
    {
     "name": "stdout",
     "output_type": "stream",
     "text": [
      "Saved: caption_data\\cap_df_672.pkl and tsne_data\\tsne_df_672.pkl\n",
      "Running for image id: 673\n"
     ]
    },
    {
     "name": "stderr",
     "output_type": "stream",
     "text": [
      " 43%|████▎     | 163/379 [10:02<1:02:41, 17.41s/it]"
     ]
    },
    {
     "name": "stdout",
     "output_type": "stream",
     "text": [
      "Saved: caption_data\\cap_df_673.pkl and tsne_data\\tsne_df_673.pkl\n",
      "Running for image id: 674\n"
     ]
    },
    {
     "name": "stderr",
     "output_type": "stream",
     "text": [
      " 44%|████▎     | 165/379 [11:03<1:09:45, 19.56s/it]"
     ]
    },
    {
     "name": "stdout",
     "output_type": "stream",
     "text": [
      "Saved: caption_data\\cap_df_674.pkl and tsne_data\\tsne_df_674.pkl\n",
      "Running for image id: 675\n",
      "Running for image id: 676\n"
     ]
    },
    {
     "name": "stderr",
     "output_type": "stream",
     "text": [
      " 44%|████▍     | 166/379 [11:59<1:33:59, 26.48s/it]"
     ]
    },
    {
     "name": "stdout",
     "output_type": "stream",
     "text": [
      "Saved: caption_data\\cap_df_676.pkl and tsne_data\\tsne_df_676.pkl\n",
      "Running for image id: 677\n"
     ]
    },
    {
     "name": "stderr",
     "output_type": "stream",
     "text": [
      " 44%|████▍     | 167/379 [12:43<1:46:29, 30.14s/it]"
     ]
    },
    {
     "name": "stdout",
     "output_type": "stream",
     "text": [
      "Saved: caption_data\\cap_df_677.pkl and tsne_data\\tsne_df_677.pkl\n",
      "Running for image id: 678\n"
     ]
    },
    {
     "name": "stderr",
     "output_type": "stream",
     "text": [
      " 44%|████▍     | 168/379 [13:47<2:14:12, 38.16s/it]"
     ]
    },
    {
     "name": "stdout",
     "output_type": "stream",
     "text": [
      "Saved: caption_data\\cap_df_678.pkl and tsne_data\\tsne_df_678.pkl\n",
      "Running for image id: 679\n"
     ]
    },
    {
     "name": "stderr",
     "output_type": "stream",
     "text": [
      " 45%|████▍     | 169/379 [14:43<2:29:01, 42.58s/it]"
     ]
    },
    {
     "name": "stdout",
     "output_type": "stream",
     "text": [
      "Saved: caption_data\\cap_df_679.pkl and tsne_data\\tsne_df_679.pkl\n",
      "Running for image id: 680\n"
     ]
    },
    {
     "name": "stderr",
     "output_type": "stream",
     "text": [
      " 45%|████▍     | 170/379 [15:53<2:54:11, 50.01s/it]"
     ]
    },
    {
     "name": "stdout",
     "output_type": "stream",
     "text": [
      "Saved: caption_data\\cap_df_680.pkl and tsne_data\\tsne_df_680.pkl\n",
      "Running for image id: 681\n"
     ]
    },
    {
     "name": "stderr",
     "output_type": "stream",
     "text": [
      " 45%|████▌     | 171/379 [17:16<3:23:52, 58.81s/it]"
     ]
    },
    {
     "name": "stdout",
     "output_type": "stream",
     "text": [
      "Saved: caption_data\\cap_df_681.pkl and tsne_data\\tsne_df_681.pkl\n",
      "Running for image id: 682\n"
     ]
    },
    {
     "name": "stderr",
     "output_type": "stream",
     "text": [
      " 45%|████▌     | 172/379 [18:25<3:32:44, 61.67s/it]"
     ]
    },
    {
     "name": "stdout",
     "output_type": "stream",
     "text": [
      "Saved: caption_data\\cap_df_682.pkl and tsne_data\\tsne_df_682.pkl\n",
      "Running for image id: 683\n"
     ]
    },
    {
     "name": "stderr",
     "output_type": "stream",
     "text": [
      " 46%|████▌     | 173/379 [19:13<3:18:24, 57.79s/it]"
     ]
    },
    {
     "name": "stdout",
     "output_type": "stream",
     "text": [
      "Saved: caption_data\\cap_df_683.pkl and tsne_data\\tsne_df_683.pkl\n",
      "Running for image id: 684\n"
     ]
    },
    {
     "name": "stderr",
     "output_type": "stream",
     "text": [
      " 46%|████▌     | 174/379 [20:32<3:38:48, 64.04s/it]"
     ]
    },
    {
     "name": "stdout",
     "output_type": "stream",
     "text": [
      "Saved: caption_data\\cap_df_684.pkl and tsne_data\\tsne_df_684.pkl\n",
      "Running for image id: 685\n"
     ]
    },
    {
     "name": "stderr",
     "output_type": "stream",
     "text": [
      " 46%|████▌     | 175/379 [21:29<3:30:47, 62.00s/it]"
     ]
    },
    {
     "name": "stdout",
     "output_type": "stream",
     "text": [
      "Saved: caption_data\\cap_df_685.pkl and tsne_data\\tsne_df_685.pkl\n",
      "Running for image id: 686\n"
     ]
    },
    {
     "name": "stderr",
     "output_type": "stream",
     "text": [
      " 46%|████▋     | 176/379 [22:39<3:37:28, 64.28s/it]"
     ]
    },
    {
     "name": "stdout",
     "output_type": "stream",
     "text": [
      "Saved: caption_data\\cap_df_686.pkl and tsne_data\\tsne_df_686.pkl\n",
      "Running for image id: 687\n"
     ]
    },
    {
     "name": "stderr",
     "output_type": "stream",
     "text": [
      " 47%|████▋     | 177/379 [23:42<3:35:08, 63.90s/it]"
     ]
    },
    {
     "name": "stdout",
     "output_type": "stream",
     "text": [
      "Saved: caption_data\\cap_df_687.pkl and tsne_data\\tsne_df_687.pkl\n",
      "Running for image id: 688\n"
     ]
    },
    {
     "name": "stderr",
     "output_type": "stream",
     "text": [
      " 47%|████▋     | 178/379 [24:35<3:23:43, 60.81s/it]"
     ]
    },
    {
     "name": "stdout",
     "output_type": "stream",
     "text": [
      "Saved: caption_data\\cap_df_688.pkl and tsne_data\\tsne_df_688.pkl\n",
      "Running for image id: 689\n"
     ]
    },
    {
     "name": "stderr",
     "output_type": "stream",
     "text": [
      " 47%|████▋     | 179/379 [25:28<3:14:45, 58.43s/it]"
     ]
    },
    {
     "name": "stdout",
     "output_type": "stream",
     "text": [
      "Saved: caption_data\\cap_df_689.pkl and tsne_data\\tsne_df_689.pkl\n",
      "Running for image id: 690\n"
     ]
    },
    {
     "name": "stderr",
     "output_type": "stream",
     "text": [
      " 48%|████▊     | 181/379 [26:34<2:20:30, 42.58s/it]"
     ]
    },
    {
     "name": "stdout",
     "output_type": "stream",
     "text": [
      "Saved: caption_data\\cap_df_690.pkl and tsne_data\\tsne_df_690.pkl\n",
      "Running for image id: 691\n",
      "Running for image id: 692\n",
      "Running for image id: 693\n",
      "Running for image id: 694\n",
      "Running for image id: 695\n",
      "Running for image id: 696\n",
      "Running for image id: 697\n"
     ]
    },
    {
     "name": "stderr",
     "output_type": "stream",
     "text": [
      " 50%|████▉     | 188/379 [27:34<51:56, 16.32s/it]  "
     ]
    },
    {
     "name": "stdout",
     "output_type": "stream",
     "text": [
      "Saved: caption_data\\cap_df_697.pkl and tsne_data\\tsne_df_697.pkl\n",
      "Running for image id: 698\n",
      "Running for image id: 699\n"
     ]
    },
    {
     "name": "stderr",
     "output_type": "stream",
     "text": [
      " 50%|████▉     | 189/379 [28:58<1:28:54, 28.08s/it]"
     ]
    },
    {
     "name": "stdout",
     "output_type": "stream",
     "text": [
      "Saved: caption_data\\cap_df_699.pkl and tsne_data\\tsne_df_699.pkl\n",
      "Running for image id: 700\n"
     ]
    },
    {
     "name": "stderr",
     "output_type": "stream",
     "text": [
      " 50%|█████     | 190/379 [30:38<2:13:12, 42.29s/it]"
     ]
    },
    {
     "name": "stdout",
     "output_type": "stream",
     "text": [
      "Saved: caption_data\\cap_df_700.pkl and tsne_data\\tsne_df_700.pkl\n",
      "Running for image id: 701\n"
     ]
    },
    {
     "name": "stderr",
     "output_type": "stream",
     "text": [
      " 51%|█████     | 192/379 [32:01<2:01:28, 38.98s/it]"
     ]
    },
    {
     "name": "stdout",
     "output_type": "stream",
     "text": [
      "Saved: caption_data\\cap_df_701.pkl and tsne_data\\tsne_df_701.pkl\n",
      "Running for image id: 702\n",
      "Running for image id: 703\n"
     ]
    },
    {
     "name": "stderr",
     "output_type": "stream",
     "text": [
      " 51%|█████     | 194/379 [33:10<1:45:08, 34.10s/it]"
     ]
    },
    {
     "name": "stdout",
     "output_type": "stream",
     "text": [
      "Saved: caption_data\\cap_df_703.pkl and tsne_data\\tsne_df_703.pkl\n",
      "Running for image id: 704\n",
      "Running for image id: 705\n"
     ]
    },
    {
     "name": "stderr",
     "output_type": "stream",
     "text": [
      " 51%|█████▏    | 195/379 [34:20<2:15:38, 44.23s/it]"
     ]
    },
    {
     "name": "stdout",
     "output_type": "stream",
     "text": [
      "Saved: caption_data\\cap_df_705.pkl and tsne_data\\tsne_df_705.pkl\n",
      "Running for image id: 706\n"
     ]
    },
    {
     "name": "stderr",
     "output_type": "stream",
     "text": [
      " 52%|█████▏    | 197/379 [35:22<1:46:15, 35.03s/it]"
     ]
    },
    {
     "name": "stdout",
     "output_type": "stream",
     "text": [
      "Saved: caption_data\\cap_df_706.pkl and tsne_data\\tsne_df_706.pkl\n",
      "Running for image id: 707\n",
      "Running for image id: 708\n"
     ]
    },
    {
     "name": "stderr",
     "output_type": "stream",
     "text": [
      " 53%|█████▎    | 199/379 [37:29<2:11:01, 43.67s/it]"
     ]
    },
    {
     "name": "stdout",
     "output_type": "stream",
     "text": [
      "Saved: caption_data\\cap_df_708.pkl and tsne_data\\tsne_df_708.pkl\n",
      "Running for image id: 709\n",
      "Running for image id: 710\n"
     ]
    },
    {
     "name": "stderr",
     "output_type": "stream",
     "text": [
      " 53%|█████▎    | 201/379 [39:21<2:13:23, 44.97s/it]"
     ]
    },
    {
     "name": "stdout",
     "output_type": "stream",
     "text": [
      "Saved: caption_data\\cap_df_710.pkl and tsne_data\\tsne_df_710.pkl\n",
      "Running for image id: 711\n",
      "Running for image id: 712\n"
     ]
    },
    {
     "name": "stderr",
     "output_type": "stream",
     "text": [
      " 54%|█████▎    | 203/379 [39:22<1:11:33, 24.40s/it]"
     ]
    },
    {
     "name": "stdout",
     "output_type": "stream",
     "text": [
      "Running for image id: 713\n",
      "Running for image id: 714\n"
     ]
    },
    {
     "name": "stderr",
     "output_type": "stream",
     "text": [
      " 54%|█████▍    | 205/379 [40:39<1:20:28, 27.75s/it]"
     ]
    },
    {
     "name": "stdout",
     "output_type": "stream",
     "text": [
      "Saved: caption_data\\cap_df_714.pkl and tsne_data\\tsne_df_714.pkl\n",
      "Running for image id: 715\n",
      "Running for image id: 716\n",
      "Running for image id: 717\n"
     ]
    },
    {
     "name": "stderr",
     "output_type": "stream",
     "text": [
      " 55%|█████▍    | 207/379 [42:47<2:03:34, 43.11s/it]"
     ]
    },
    {
     "name": "stdout",
     "output_type": "stream",
     "text": [
      "Saved: caption_data\\cap_df_717.pkl and tsne_data\\tsne_df_717.pkl\n",
      "Running for image id: 718\n"
     ]
    },
    {
     "name": "stderr",
     "output_type": "stream",
     "text": [
      " 55%|█████▍    | 208/379 [44:52<2:57:36, 62.32s/it]"
     ]
    },
    {
     "name": "stdout",
     "output_type": "stream",
     "text": [
      "Saved: caption_data\\cap_df_718.pkl and tsne_data\\tsne_df_718.pkl\n",
      "Running for image id: 719\n"
     ]
    },
    {
     "name": "stderr",
     "output_type": "stream",
     "text": [
      " 55%|█████▌    | 209/379 [47:10<3:50:01, 81.18s/it]"
     ]
    },
    {
     "name": "stdout",
     "output_type": "stream",
     "text": [
      "Saved: caption_data\\cap_df_719.pkl and tsne_data\\tsne_df_719.pkl\n",
      "Running for image id: 720\n"
     ]
    },
    {
     "name": "stderr",
     "output_type": "stream",
     "text": [
      " 56%|█████▌    | 211/379 [49:09<3:05:35, 66.29s/it]"
     ]
    },
    {
     "name": "stdout",
     "output_type": "stream",
     "text": [
      "Saved: caption_data\\cap_df_720.pkl and tsne_data\\tsne_df_720.pkl\n",
      "Running for image id: 721\n",
      "Running for image id: 722\n"
     ]
    },
    {
     "name": "stderr",
     "output_type": "stream",
     "text": [
      " 56%|█████▌    | 212/379 [51:15<3:51:30, 83.18s/it]"
     ]
    },
    {
     "name": "stdout",
     "output_type": "stream",
     "text": [
      "Saved: caption_data\\cap_df_722.pkl and tsne_data\\tsne_df_722.pkl\n",
      "Running for image id: 723\n"
     ]
    },
    {
     "name": "stderr",
     "output_type": "stream",
     "text": [
      " 56%|█████▌    | 213/379 [52:47<3:56:55, 85.64s/it]"
     ]
    },
    {
     "name": "stdout",
     "output_type": "stream",
     "text": [
      "Saved: caption_data\\cap_df_723.pkl and tsne_data\\tsne_df_723.pkl\n",
      "Running for image id: 724\n"
     ]
    },
    {
     "name": "stderr",
     "output_type": "stream",
     "text": [
      " 56%|█████▋    | 214/379 [54:15<3:57:20, 86.31s/it]"
     ]
    },
    {
     "name": "stdout",
     "output_type": "stream",
     "text": [
      "Saved: caption_data\\cap_df_724.pkl and tsne_data\\tsne_df_724.pkl\n",
      "Running for image id: 725\n"
     ]
    },
    {
     "name": "stderr",
     "output_type": "stream",
     "text": [
      " 57%|█████▋    | 215/379 [55:59<4:09:51, 91.41s/it]"
     ]
    },
    {
     "name": "stdout",
     "output_type": "stream",
     "text": [
      "Saved: caption_data\\cap_df_725.pkl and tsne_data\\tsne_df_725.pkl\n",
      "Running for image id: 726\n"
     ]
    },
    {
     "name": "stderr",
     "output_type": "stream",
     "text": [
      " 57%|█████▋    | 216/379 [57:39<4:15:37, 94.09s/it]"
     ]
    },
    {
     "name": "stdout",
     "output_type": "stream",
     "text": [
      "Saved: caption_data\\cap_df_726.pkl and tsne_data\\tsne_df_726.pkl\n",
      "Running for image id: 727\n"
     ]
    },
    {
     "name": "stderr",
     "output_type": "stream",
     "text": [
      " 57%|█████▋    | 217/379 [59:51<4:44:20, 105.31s/it]"
     ]
    },
    {
     "name": "stdout",
     "output_type": "stream",
     "text": [
      "Saved: caption_data\\cap_df_727.pkl and tsne_data\\tsne_df_727.pkl\n",
      "Running for image id: 728\n"
     ]
    },
    {
     "name": "stderr",
     "output_type": "stream",
     "text": [
      " 58%|█████▊    | 218/379 [1:01:10<4:21:38, 97.51s/it]"
     ]
    },
    {
     "name": "stdout",
     "output_type": "stream",
     "text": [
      "Saved: caption_data\\cap_df_728.pkl and tsne_data\\tsne_df_728.pkl\n",
      "Running for image id: 729\n"
     ]
    },
    {
     "name": "stderr",
     "output_type": "stream",
     "text": [
      " 58%|█████▊    | 219/379 [1:02:25<4:01:52, 90.70s/it]"
     ]
    },
    {
     "name": "stdout",
     "output_type": "stream",
     "text": [
      "Saved: caption_data\\cap_df_729.pkl and tsne_data\\tsne_df_729.pkl\n",
      "Running for image id: 730\n"
     ]
    },
    {
     "name": "stderr",
     "output_type": "stream",
     "text": [
      " 58%|█████▊    | 221/379 [1:04:25<3:03:40, 69.75s/it]"
     ]
    },
    {
     "name": "stdout",
     "output_type": "stream",
     "text": [
      "Saved: caption_data\\cap_df_730.pkl and tsne_data\\tsne_df_730.pkl\n",
      "Running for image id: 731\n",
      "Running for image id: 732\n"
     ]
    },
    {
     "name": "stderr",
     "output_type": "stream",
     "text": [
      " 59%|█████▊    | 222/379 [1:05:51<3:15:22, 74.67s/it]"
     ]
    },
    {
     "name": "stdout",
     "output_type": "stream",
     "text": [
      "Saved: caption_data\\cap_df_732.pkl and tsne_data\\tsne_df_732.pkl\n",
      "Running for image id: 733\n"
     ]
    },
    {
     "name": "stderr",
     "output_type": "stream",
     "text": [
      " 59%|█████▉    | 223/379 [1:08:08<4:02:36, 93.31s/it]"
     ]
    },
    {
     "name": "stdout",
     "output_type": "stream",
     "text": [
      "Saved: caption_data\\cap_df_733.pkl and tsne_data\\tsne_df_733.pkl\n",
      "Running for image id: 734\n"
     ]
    },
    {
     "name": "stderr",
     "output_type": "stream",
     "text": [
      " 59%|█████▉    | 224/379 [1:09:52<4:08:55, 96.36s/it]"
     ]
    },
    {
     "name": "stdout",
     "output_type": "stream",
     "text": [
      "Saved: caption_data\\cap_df_734.pkl and tsne_data\\tsne_df_734.pkl\n",
      "Running for image id: 735\n"
     ]
    },
    {
     "name": "stderr",
     "output_type": "stream",
     "text": [
      " 59%|█████▉    | 225/379 [1:10:55<3:41:57, 86.48s/it]"
     ]
    },
    {
     "name": "stdout",
     "output_type": "stream",
     "text": [
      "Saved: caption_data\\cap_df_735.pkl and tsne_data\\tsne_df_735.pkl\n",
      "Running for image id: 736\n"
     ]
    },
    {
     "name": "stderr",
     "output_type": "stream",
     "text": [
      " 60%|█████▉    | 226/379 [1:12:27<3:44:42, 88.12s/it]"
     ]
    },
    {
     "name": "stdout",
     "output_type": "stream",
     "text": [
      "Saved: caption_data\\cap_df_736.pkl and tsne_data\\tsne_df_736.pkl\n",
      "Running for image id: 737\n"
     ]
    },
    {
     "name": "stderr",
     "output_type": "stream",
     "text": [
      " 60%|█████▉    | 227/379 [1:13:58<3:45:47, 89.13s/it]"
     ]
    },
    {
     "name": "stdout",
     "output_type": "stream",
     "text": [
      "Saved: caption_data\\cap_df_737.pkl and tsne_data\\tsne_df_737.pkl\n",
      "Running for image id: 738\n"
     ]
    },
    {
     "name": "stderr",
     "output_type": "stream",
     "text": [
      " 60%|██████    | 228/379 [1:15:51<4:01:57, 96.14s/it]"
     ]
    },
    {
     "name": "stdout",
     "output_type": "stream",
     "text": [
      "Saved: caption_data\\cap_df_738.pkl and tsne_data\\tsne_df_738.pkl\n",
      "Running for image id: 739\n"
     ]
    },
    {
     "name": "stderr",
     "output_type": "stream",
     "text": [
      " 60%|██████    | 229/379 [1:17:31<4:03:27, 97.38s/it]"
     ]
    },
    {
     "name": "stdout",
     "output_type": "stream",
     "text": [
      "Saved: caption_data\\cap_df_739.pkl and tsne_data\\tsne_df_739.pkl\n",
      "Running for image id: 740\n"
     ]
    },
    {
     "name": "stderr",
     "output_type": "stream",
     "text": [
      " 61%|██████    | 230/379 [1:20:05<4:44:01, 114.37s/it]"
     ]
    },
    {
     "name": "stdout",
     "output_type": "stream",
     "text": [
      "Saved: caption_data\\cap_df_740.pkl and tsne_data\\tsne_df_740.pkl\n",
      "Running for image id: 741\n"
     ]
    },
    {
     "name": "stderr",
     "output_type": "stream",
     "text": [
      " 61%|██████    | 231/379 [1:21:22<4:14:34, 103.20s/it]"
     ]
    },
    {
     "name": "stdout",
     "output_type": "stream",
     "text": [
      "Saved: caption_data\\cap_df_741.pkl and tsne_data\\tsne_df_741.pkl\n",
      "Running for image id: 742\n"
     ]
    },
    {
     "name": "stderr",
     "output_type": "stream",
     "text": [
      " 61%|██████    | 232/379 [1:22:42<3:55:28, 96.11s/it] "
     ]
    },
    {
     "name": "stdout",
     "output_type": "stream",
     "text": [
      "Saved: caption_data\\cap_df_742.pkl and tsne_data\\tsne_df_742.pkl\n",
      "Running for image id: 743\n"
     ]
    },
    {
     "name": "stderr",
     "output_type": "stream",
     "text": [
      " 61%|██████▏   | 233/379 [1:24:02<3:42:23, 91.40s/it]"
     ]
    },
    {
     "name": "stdout",
     "output_type": "stream",
     "text": [
      "Saved: caption_data\\cap_df_743.pkl and tsne_data\\tsne_df_743.pkl\n",
      "Running for image id: 744\n"
     ]
    },
    {
     "name": "stderr",
     "output_type": "stream",
     "text": [
      " 62%|██████▏   | 234/379 [1:26:35<4:25:01, 109.67s/it]"
     ]
    },
    {
     "name": "stdout",
     "output_type": "stream",
     "text": [
      "Saved: caption_data\\cap_df_744.pkl and tsne_data\\tsne_df_744.pkl\n",
      "Running for image id: 745\n"
     ]
    },
    {
     "name": "stderr",
     "output_type": "stream",
     "text": [
      " 62%|██████▏   | 235/379 [1:28:47<4:39:22, 116.41s/it]"
     ]
    },
    {
     "name": "stdout",
     "output_type": "stream",
     "text": [
      "Saved: caption_data\\cap_df_745.pkl and tsne_data\\tsne_df_745.pkl\n",
      "Running for image id: 746\n"
     ]
    },
    {
     "name": "stderr",
     "output_type": "stream",
     "text": [
      " 62%|██████▏   | 236/379 [1:30:53<4:44:37, 119.42s/it]"
     ]
    },
    {
     "name": "stdout",
     "output_type": "stream",
     "text": [
      "Saved: caption_data\\cap_df_746.pkl and tsne_data\\tsne_df_746.pkl\n",
      "Running for image id: 747\n"
     ]
    },
    {
     "name": "stderr",
     "output_type": "stream",
     "text": [
      " 63%|██████▎   | 237/379 [1:33:00<4:48:10, 121.77s/it]"
     ]
    },
    {
     "name": "stdout",
     "output_type": "stream",
     "text": [
      "Saved: caption_data\\cap_df_747.pkl and tsne_data\\tsne_df_747.pkl\n",
      "Running for image id: 748\n"
     ]
    },
    {
     "name": "stderr",
     "output_type": "stream",
     "text": [
      " 63%|██████▎   | 238/379 [1:33:01<3:20:26, 85.30s/it] "
     ]
    },
    {
     "name": "stdout",
     "output_type": "stream",
     "text": [
      "Running for image id: 749\n"
     ]
    },
    {
     "name": "stderr",
     "output_type": "stream",
     "text": [
      " 63%|██████▎   | 239/379 [1:34:19<3:14:08, 83.20s/it]"
     ]
    },
    {
     "name": "stdout",
     "output_type": "stream",
     "text": [
      "Saved: caption_data\\cap_df_749.pkl and tsne_data\\tsne_df_749.pkl\n",
      "Running for image id: 750\n"
     ]
    },
    {
     "name": "stderr",
     "output_type": "stream",
     "text": [
      " 63%|██████▎   | 240/379 [1:35:58<3:23:27, 87.82s/it]"
     ]
    },
    {
     "name": "stdout",
     "output_type": "stream",
     "text": [
      "Saved: caption_data\\cap_df_750.pkl and tsne_data\\tsne_df_750.pkl\n",
      "Running for image id: 751\n"
     ]
    },
    {
     "name": "stderr",
     "output_type": "stream",
     "text": [
      " 64%|██████▍   | 242/379 [1:37:34<2:24:34, 63.32s/it]"
     ]
    },
    {
     "name": "stdout",
     "output_type": "stream",
     "text": [
      "Saved: caption_data\\cap_df_751.pkl and tsne_data\\tsne_df_751.pkl\n",
      "Running for image id: 752\n",
      "Running for image id: 753\n"
     ]
    },
    {
     "name": "stderr",
     "output_type": "stream",
     "text": [
      " 64%|██████▍   | 243/379 [1:40:12<3:27:40, 91.62s/it]"
     ]
    },
    {
     "name": "stdout",
     "output_type": "stream",
     "text": [
      "Saved: caption_data\\cap_df_753.pkl and tsne_data\\tsne_df_753.pkl\n",
      "Running for image id: 754\n"
     ]
    },
    {
     "name": "stderr",
     "output_type": "stream",
     "text": [
      " 64%|██████▍   | 244/379 [1:41:35<3:20:18, 89.02s/it]"
     ]
    },
    {
     "name": "stdout",
     "output_type": "stream",
     "text": [
      "Saved: caption_data\\cap_df_754.pkl and tsne_data\\tsne_df_754.pkl\n",
      "Running for image id: 755\n"
     ]
    },
    {
     "name": "stderr",
     "output_type": "stream",
     "text": [
      " 65%|██████▍   | 245/379 [1:43:45<3:46:24, 101.38s/it]"
     ]
    },
    {
     "name": "stdout",
     "output_type": "stream",
     "text": [
      "Saved: caption_data\\cap_df_755.pkl and tsne_data\\tsne_df_755.pkl\n",
      "Running for image id: 756\n"
     ]
    },
    {
     "name": "stderr",
     "output_type": "stream",
     "text": [
      " 65%|██████▍   | 246/379 [1:45:55<4:03:59, 110.07s/it]"
     ]
    },
    {
     "name": "stdout",
     "output_type": "stream",
     "text": [
      "Saved: caption_data\\cap_df_756.pkl and tsne_data\\tsne_df_756.pkl\n",
      "Running for image id: 757\n"
     ]
    },
    {
     "name": "stderr",
     "output_type": "stream",
     "text": [
      " 65%|██████▌   | 247/379 [1:47:24<3:47:43, 103.51s/it]"
     ]
    },
    {
     "name": "stdout",
     "output_type": "stream",
     "text": [
      "Saved: caption_data\\cap_df_757.pkl and tsne_data\\tsne_df_757.pkl\n",
      "Running for image id: 758\n"
     ]
    },
    {
     "name": "stderr",
     "output_type": "stream",
     "text": [
      " 65%|██████▌   | 248/379 [1:48:26<3:19:00, 91.15s/it] "
     ]
    },
    {
     "name": "stdout",
     "output_type": "stream",
     "text": [
      "Saved: caption_data\\cap_df_758.pkl and tsne_data\\tsne_df_758.pkl\n",
      "Running for image id: 759\n"
     ]
    },
    {
     "name": "stderr",
     "output_type": "stream",
     "text": [
      " 66%|██████▌   | 250/379 [1:50:37<2:35:12, 72.19s/it] "
     ]
    },
    {
     "name": "stdout",
     "output_type": "stream",
     "text": [
      "Saved: caption_data\\cap_df_759.pkl and tsne_data\\tsne_df_759.pkl\n",
      "Running for image id: 760\n",
      "Running for image id: 761\n"
     ]
    },
    {
     "name": "stderr",
     "output_type": "stream",
     "text": [
      " 66%|██████▌   | 251/379 [1:52:59<3:18:42, 93.15s/it]"
     ]
    },
    {
     "name": "stdout",
     "output_type": "stream",
     "text": [
      "Saved: caption_data\\cap_df_761.pkl and tsne_data\\tsne_df_761.pkl\n",
      "Running for image id: 762\n"
     ]
    },
    {
     "name": "stderr",
     "output_type": "stream",
     "text": [
      " 66%|██████▋   | 252/379 [1:54:37<3:20:24, 94.68s/it]"
     ]
    },
    {
     "name": "stdout",
     "output_type": "stream",
     "text": [
      "Saved: caption_data\\cap_df_762.pkl and tsne_data\\tsne_df_762.pkl\n",
      "Running for image id: 763\n"
     ]
    },
    {
     "name": "stderr",
     "output_type": "stream",
     "text": [
      " 67%|██████▋   | 253/379 [1:56:46<3:40:36, 105.05s/it]"
     ]
    },
    {
     "name": "stdout",
     "output_type": "stream",
     "text": [
      "Saved: caption_data\\cap_df_763.pkl and tsne_data\\tsne_df_763.pkl\n",
      "Running for image id: 764\n"
     ]
    },
    {
     "name": "stderr",
     "output_type": "stream",
     "text": [
      " 67%|██████▋   | 254/379 [1:58:13<3:27:30, 99.60s/it] "
     ]
    },
    {
     "name": "stdout",
     "output_type": "stream",
     "text": [
      "Saved: caption_data\\cap_df_764.pkl and tsne_data\\tsne_df_764.pkl\n",
      "Running for image id: 765\n"
     ]
    },
    {
     "name": "stderr",
     "output_type": "stream",
     "text": [
      " 67%|██████▋   | 255/379 [1:59:42<3:18:50, 96.21s/it]"
     ]
    },
    {
     "name": "stdout",
     "output_type": "stream",
     "text": [
      "Saved: caption_data\\cap_df_765.pkl and tsne_data\\tsne_df_765.pkl\n",
      "Running for image id: 766\n"
     ]
    },
    {
     "name": "stderr",
     "output_type": "stream",
     "text": [
      " 68%|██████▊   | 256/379 [2:00:58<3:05:18, 90.40s/it]"
     ]
    },
    {
     "name": "stdout",
     "output_type": "stream",
     "text": [
      "Saved: caption_data\\cap_df_766.pkl and tsne_data\\tsne_df_766.pkl\n",
      "Running for image id: 767\n"
     ]
    },
    {
     "name": "stderr",
     "output_type": "stream",
     "text": [
      " 68%|██████▊   | 257/379 [2:02:44<3:13:16, 95.05s/it]"
     ]
    },
    {
     "name": "stdout",
     "output_type": "stream",
     "text": [
      "Saved: caption_data\\cap_df_767.pkl and tsne_data\\tsne_df_767.pkl\n",
      "Running for image id: 768\n"
     ]
    },
    {
     "name": "stderr",
     "output_type": "stream",
     "text": [
      " 68%|██████▊   | 259/379 [2:04:13<2:10:37, 65.31s/it]"
     ]
    },
    {
     "name": "stdout",
     "output_type": "stream",
     "text": [
      "Saved: caption_data\\cap_df_768.pkl and tsne_data\\tsne_df_768.pkl\n",
      "Running for image id: 769\n",
      "Running for image id: 770\n"
     ]
    },
    {
     "name": "stderr",
     "output_type": "stream",
     "text": [
      " 69%|██████▉   | 261/379 [2:05:30<1:34:23, 47.99s/it]"
     ]
    },
    {
     "name": "stdout",
     "output_type": "stream",
     "text": [
      "Saved: caption_data\\cap_df_770.pkl and tsne_data\\tsne_df_770.pkl\n",
      "Running for image id: 771\n",
      "Running for image id: 772\n"
     ]
    },
    {
     "name": "stderr",
     "output_type": "stream",
     "text": [
      " 69%|██████▉   | 262/379 [2:05:30<1:05:34, 33.63s/it]"
     ]
    },
    {
     "name": "stdout",
     "output_type": "stream",
     "text": [
      "Running for image id: 773\n"
     ]
    },
    {
     "name": "stderr",
     "output_type": "stream",
     "text": [
      " 69%|██████▉   | 263/379 [2:06:59<1:37:03, 50.21s/it]"
     ]
    },
    {
     "name": "stdout",
     "output_type": "stream",
     "text": [
      "Saved: caption_data\\cap_df_773.pkl and tsne_data\\tsne_df_773.pkl\n",
      "Running for image id: 774\n"
     ]
    },
    {
     "name": "stderr",
     "output_type": "stream",
     "text": [
      " 70%|██████▉   | 264/379 [2:08:09<1:47:56, 56.32s/it]"
     ]
    },
    {
     "name": "stdout",
     "output_type": "stream",
     "text": [
      "Saved: caption_data\\cap_df_774.pkl and tsne_data\\tsne_df_774.pkl\n",
      "Running for image id: 775\n"
     ]
    },
    {
     "name": "stderr",
     "output_type": "stream",
     "text": [
      " 70%|██████▉   | 265/379 [2:10:01<2:18:55, 73.12s/it]"
     ]
    },
    {
     "name": "stdout",
     "output_type": "stream",
     "text": [
      "Saved: caption_data\\cap_df_775.pkl and tsne_data\\tsne_df_775.pkl\n",
      "Running for image id: 776\n"
     ]
    },
    {
     "name": "stderr",
     "output_type": "stream",
     "text": [
      " 70%|███████   | 266/379 [2:11:44<2:34:29, 82.03s/it]"
     ]
    },
    {
     "name": "stdout",
     "output_type": "stream",
     "text": [
      "Saved: caption_data\\cap_df_776.pkl and tsne_data\\tsne_df_776.pkl\n",
      "Running for image id: 777\n"
     ]
    },
    {
     "name": "stderr",
     "output_type": "stream",
     "text": [
      " 70%|███████   | 267/379 [2:13:17<2:39:20, 85.37s/it]"
     ]
    },
    {
     "name": "stdout",
     "output_type": "stream",
     "text": [
      "Saved: caption_data\\cap_df_777.pkl and tsne_data\\tsne_df_777.pkl\n",
      "Running for image id: 778\n"
     ]
    },
    {
     "name": "stderr",
     "output_type": "stream",
     "text": [
      " 71%|███████   | 268/379 [2:14:54<2:43:55, 88.60s/it]"
     ]
    },
    {
     "name": "stdout",
     "output_type": "stream",
     "text": [
      "Saved: caption_data\\cap_df_778.pkl and tsne_data\\tsne_df_778.pkl\n",
      "Running for image id: 779\n"
     ]
    },
    {
     "name": "stderr",
     "output_type": "stream",
     "text": [
      " 71%|███████   | 269/379 [2:15:57<2:28:22, 80.94s/it]"
     ]
    },
    {
     "name": "stdout",
     "output_type": "stream",
     "text": [
      "Saved: caption_data\\cap_df_779.pkl and tsne_data\\tsne_df_779.pkl\n",
      "Running for image id: 780\n"
     ]
    },
    {
     "name": "stderr",
     "output_type": "stream",
     "text": [
      " 71%|███████   | 270/379 [2:17:20<2:28:29, 81.74s/it]"
     ]
    },
    {
     "name": "stdout",
     "output_type": "stream",
     "text": [
      "Saved: caption_data\\cap_df_780.pkl and tsne_data\\tsne_df_780.pkl\n",
      "Running for image id: 781\n"
     ]
    },
    {
     "name": "stderr",
     "output_type": "stream",
     "text": [
      " 72%|███████▏  | 272/379 [2:18:39<1:40:47, 56.52s/it]"
     ]
    },
    {
     "name": "stdout",
     "output_type": "stream",
     "text": [
      "Saved: caption_data\\cap_df_781.pkl and tsne_data\\tsne_df_781.pkl\n",
      "Running for image id: 782\n",
      "Running for image id: 783\n"
     ]
    },
    {
     "name": "stderr",
     "output_type": "stream",
     "text": [
      " 72%|███████▏  | 273/379 [2:20:06<1:56:27, 65.92s/it]"
     ]
    },
    {
     "name": "stdout",
     "output_type": "stream",
     "text": [
      "Saved: caption_data\\cap_df_783.pkl and tsne_data\\tsne_df_783.pkl\n",
      "Running for image id: 784\n"
     ]
    },
    {
     "name": "stderr",
     "output_type": "stream",
     "text": [
      " 72%|███████▏  | 274/379 [2:21:02<1:49:55, 62.81s/it]"
     ]
    },
    {
     "name": "stdout",
     "output_type": "stream",
     "text": [
      "Saved: caption_data\\cap_df_784.pkl and tsne_data\\tsne_df_784.pkl\n",
      "Running for image id: 785\n"
     ]
    },
    {
     "name": "stderr",
     "output_type": "stream",
     "text": [
      " 73%|███████▎  | 275/379 [2:22:29<2:01:23, 70.04s/it]"
     ]
    },
    {
     "name": "stdout",
     "output_type": "stream",
     "text": [
      "Saved: caption_data\\cap_df_785.pkl and tsne_data\\tsne_df_785.pkl\n",
      "Running for image id: 786\n"
     ]
    },
    {
     "name": "stderr",
     "output_type": "stream",
     "text": [
      " 73%|███████▎  | 276/379 [2:24:30<2:26:18, 85.22s/it]"
     ]
    },
    {
     "name": "stdout",
     "output_type": "stream",
     "text": [
      "Saved: caption_data\\cap_df_786.pkl and tsne_data\\tsne_df_786.pkl\n",
      "Running for image id: 787\n"
     ]
    },
    {
     "name": "stderr",
     "output_type": "stream",
     "text": [
      " 73%|███████▎  | 277/379 [2:25:40<2:17:07, 80.66s/it]"
     ]
    },
    {
     "name": "stdout",
     "output_type": "stream",
     "text": [
      "Saved: caption_data\\cap_df_787.pkl and tsne_data\\tsne_df_787.pkl\n",
      "Running for image id: 788\n"
     ]
    },
    {
     "name": "stderr",
     "output_type": "stream",
     "text": [
      " 73%|███████▎  | 278/379 [2:26:54<2:12:51, 78.93s/it]"
     ]
    },
    {
     "name": "stdout",
     "output_type": "stream",
     "text": [
      "Saved: caption_data\\cap_df_788.pkl and tsne_data\\tsne_df_788.pkl\n",
      "Running for image id: 789\n"
     ]
    },
    {
     "name": "stderr",
     "output_type": "stream",
     "text": [
      " 74%|███████▎  | 279/379 [2:28:13<2:11:29, 78.90s/it]"
     ]
    },
    {
     "name": "stdout",
     "output_type": "stream",
     "text": [
      "Saved: caption_data\\cap_df_789.pkl and tsne_data\\tsne_df_789.pkl\n",
      "Running for image id: 790\n"
     ]
    },
    {
     "name": "stderr",
     "output_type": "stream",
     "text": [
      " 74%|███████▍  | 280/379 [2:29:04<1:56:10, 70.41s/it]"
     ]
    },
    {
     "name": "stdout",
     "output_type": "stream",
     "text": [
      "Saved: caption_data\\cap_df_790.pkl and tsne_data\\tsne_df_790.pkl\n",
      "Running for image id: 791\n"
     ]
    },
    {
     "name": "stderr",
     "output_type": "stream",
     "text": [
      " 74%|███████▍  | 281/379 [2:30:39<2:07:05, 77.82s/it]"
     ]
    },
    {
     "name": "stdout",
     "output_type": "stream",
     "text": [
      "Saved: caption_data\\cap_df_791.pkl and tsne_data\\tsne_df_791.pkl\n",
      "Running for image id: 792\n"
     ]
    },
    {
     "name": "stderr",
     "output_type": "stream",
     "text": [
      " 75%|███████▍  | 283/379 [2:31:50<1:24:56, 53.09s/it]"
     ]
    },
    {
     "name": "stdout",
     "output_type": "stream",
     "text": [
      "Saved: caption_data\\cap_df_792.pkl and tsne_data\\tsne_df_792.pkl\n",
      "Running for image id: 793\n",
      "Running for image id: 794\n"
     ]
    },
    {
     "name": "stderr",
     "output_type": "stream",
     "text": [
      " 75%|███████▍  | 284/379 [2:33:03<1:33:38, 59.14s/it]"
     ]
    },
    {
     "name": "stdout",
     "output_type": "stream",
     "text": [
      "Saved: caption_data\\cap_df_794.pkl and tsne_data\\tsne_df_794.pkl\n",
      "Running for image id: 795\n"
     ]
    },
    {
     "name": "stderr",
     "output_type": "stream",
     "text": [
      " 75%|███████▌  | 285/379 [2:34:18<1:39:46, 63.69s/it]"
     ]
    },
    {
     "name": "stdout",
     "output_type": "stream",
     "text": [
      "Saved: caption_data\\cap_df_795.pkl and tsne_data\\tsne_df_795.pkl\n",
      "Running for image id: 796\n"
     ]
    },
    {
     "name": "stderr",
     "output_type": "stream",
     "text": [
      " 75%|███████▌  | 286/379 [2:35:33<1:44:19, 67.30s/it]"
     ]
    },
    {
     "name": "stdout",
     "output_type": "stream",
     "text": [
      "Saved: caption_data\\cap_df_796.pkl and tsne_data\\tsne_df_796.pkl\n",
      "Running for image id: 797\n"
     ]
    },
    {
     "name": "stderr",
     "output_type": "stream",
     "text": [
      " 76%|███████▌  | 287/379 [2:36:51<1:47:44, 70.27s/it]"
     ]
    },
    {
     "name": "stdout",
     "output_type": "stream",
     "text": [
      "Saved: caption_data\\cap_df_797.pkl and tsne_data\\tsne_df_797.pkl\n",
      "Running for image id: 798\n"
     ]
    },
    {
     "name": "stderr",
     "output_type": "stream",
     "text": [
      " 76%|███████▌  | 288/379 [2:37:52<1:42:37, 67.66s/it]"
     ]
    },
    {
     "name": "stdout",
     "output_type": "stream",
     "text": [
      "Saved: caption_data\\cap_df_798.pkl and tsne_data\\tsne_df_798.pkl\n",
      "Running for image id: 799\n"
     ]
    },
    {
     "name": "stderr",
     "output_type": "stream",
     "text": [
      " 76%|███████▋  | 289/379 [2:39:28<1:54:06, 76.07s/it]"
     ]
    },
    {
     "name": "stdout",
     "output_type": "stream",
     "text": [
      "Saved: caption_data\\cap_df_799.pkl and tsne_data\\tsne_df_799.pkl\n",
      "Running for image id: 800\n"
     ]
    },
    {
     "name": "stderr",
     "output_type": "stream",
     "text": [
      " 77%|███████▋  | 290/379 [2:41:10<2:04:34, 83.99s/it]"
     ]
    },
    {
     "name": "stdout",
     "output_type": "stream",
     "text": [
      "Saved: caption_data\\cap_df_800.pkl and tsne_data\\tsne_df_800.pkl\n",
      "Running for image id: 801\n"
     ]
    },
    {
     "name": "stderr",
     "output_type": "stream",
     "text": [
      " 77%|███████▋  | 291/379 [2:42:08<1:51:38, 76.12s/it]"
     ]
    },
    {
     "name": "stdout",
     "output_type": "stream",
     "text": [
      "Saved: caption_data\\cap_df_801.pkl and tsne_data\\tsne_df_801.pkl\n",
      "Running for image id: 802\n"
     ]
    },
    {
     "name": "stderr",
     "output_type": "stream",
     "text": [
      " 77%|███████▋  | 292/379 [2:43:22<1:49:14, 75.34s/it]"
     ]
    },
    {
     "name": "stdout",
     "output_type": "stream",
     "text": [
      "Saved: caption_data\\cap_df_802.pkl and tsne_data\\tsne_df_802.pkl\n",
      "Running for image id: 803\n"
     ]
    },
    {
     "name": "stderr",
     "output_type": "stream",
     "text": [
      " 77%|███████▋  | 293/379 [2:45:05<2:00:05, 83.78s/it]"
     ]
    },
    {
     "name": "stdout",
     "output_type": "stream",
     "text": [
      "Saved: caption_data\\cap_df_803.pkl and tsne_data\\tsne_df_803.pkl\n",
      "Running for image id: 804\n"
     ]
    },
    {
     "name": "stderr",
     "output_type": "stream",
     "text": [
      " 78%|███████▊  | 294/379 [2:46:18<1:54:00, 80.47s/it]"
     ]
    },
    {
     "name": "stdout",
     "output_type": "stream",
     "text": [
      "Saved: caption_data\\cap_df_804.pkl and tsne_data\\tsne_df_804.pkl\n",
      "Running for image id: 805\n"
     ]
    },
    {
     "name": "stderr",
     "output_type": "stream",
     "text": [
      " 78%|███████▊  | 295/379 [2:48:02<2:02:47, 87.70s/it]"
     ]
    },
    {
     "name": "stdout",
     "output_type": "stream",
     "text": [
      "Saved: caption_data\\cap_df_805.pkl and tsne_data\\tsne_df_805.pkl\n",
      "Running for image id: 806\n"
     ]
    },
    {
     "name": "stderr",
     "output_type": "stream",
     "text": [
      " 78%|███████▊  | 296/379 [2:49:09<1:52:22, 81.23s/it]"
     ]
    },
    {
     "name": "stdout",
     "output_type": "stream",
     "text": [
      "Saved: caption_data\\cap_df_806.pkl and tsne_data\\tsne_df_806.pkl\n",
      "Running for image id: 807\n"
     ]
    },
    {
     "name": "stderr",
     "output_type": "stream",
     "text": [
      " 78%|███████▊  | 297/379 [2:50:16<1:45:33, 77.23s/it]"
     ]
    },
    {
     "name": "stdout",
     "output_type": "stream",
     "text": [
      "Saved: caption_data\\cap_df_807.pkl and tsne_data\\tsne_df_807.pkl\n",
      "Running for image id: 808\n"
     ]
    },
    {
     "name": "stderr",
     "output_type": "stream",
     "text": [
      " 79%|███████▊  | 298/379 [2:51:31<1:43:00, 76.30s/it]"
     ]
    },
    {
     "name": "stdout",
     "output_type": "stream",
     "text": [
      "Saved: caption_data\\cap_df_808.pkl and tsne_data\\tsne_df_808.pkl\n",
      "Running for image id: 809\n"
     ]
    },
    {
     "name": "stderr",
     "output_type": "stream",
     "text": [
      " 79%|███████▉  | 299/379 [2:52:57<1:45:58, 79.49s/it]"
     ]
    },
    {
     "name": "stdout",
     "output_type": "stream",
     "text": [
      "Saved: caption_data\\cap_df_809.pkl and tsne_data\\tsne_df_809.pkl\n",
      "Running for image id: 810\n"
     ]
    },
    {
     "name": "stderr",
     "output_type": "stream",
     "text": [
      " 79%|███████▉  | 300/379 [2:54:49<1:57:13, 89.03s/it]"
     ]
    },
    {
     "name": "stdout",
     "output_type": "stream",
     "text": [
      "Saved: caption_data\\cap_df_810.pkl and tsne_data\\tsne_df_810.pkl\n",
      "Running for image id: 811\n"
     ]
    },
    {
     "name": "stderr",
     "output_type": "stream",
     "text": [
      " 79%|███████▉  | 301/379 [2:55:50<1:44:57, 80.73s/it]"
     ]
    },
    {
     "name": "stdout",
     "output_type": "stream",
     "text": [
      "Saved: caption_data\\cap_df_811.pkl and tsne_data\\tsne_df_811.pkl\n",
      "Running for image id: 812\n"
     ]
    },
    {
     "name": "stderr",
     "output_type": "stream",
     "text": [
      " 80%|███████▉  | 302/379 [2:57:09<1:43:01, 80.28s/it]"
     ]
    },
    {
     "name": "stdout",
     "output_type": "stream",
     "text": [
      "Saved: caption_data\\cap_df_812.pkl and tsne_data\\tsne_df_812.pkl\n",
      "Running for image id: 813\n"
     ]
    },
    {
     "name": "stderr",
     "output_type": "stream",
     "text": [
      " 80%|████████  | 304/379 [2:58:10<1:05:07, 52.09s/it]"
     ]
    },
    {
     "name": "stdout",
     "output_type": "stream",
     "text": [
      "Saved: caption_data\\cap_df_813.pkl and tsne_data\\tsne_df_813.pkl\n",
      "Running for image id: 814\n"
     ]
    },
    {
     "name": "stderr",
     "output_type": "stream",
     "text": [
      " 80%|████████  | 305/379 [2:58:10<45:01, 36.51s/it]  "
     ]
    },
    {
     "name": "stdout",
     "output_type": "stream",
     "text": [
      "Running for image id: 815\n",
      "Running for image id: 816\n"
     ]
    },
    {
     "name": "stderr",
     "output_type": "stream",
     "text": [
      " 81%|████████  | 306/379 [2:59:33<1:01:17, 50.38s/it]"
     ]
    },
    {
     "name": "stdout",
     "output_type": "stream",
     "text": [
      "Saved: caption_data\\cap_df_816.pkl and tsne_data\\tsne_df_816.pkl\n",
      "Running for image id: 817\n"
     ]
    },
    {
     "name": "stderr",
     "output_type": "stream",
     "text": [
      " 81%|████████▏ | 308/379 [3:00:33<44:04, 37.24s/it]  "
     ]
    },
    {
     "name": "stdout",
     "output_type": "stream",
     "text": [
      "Saved: caption_data\\cap_df_817.pkl and tsne_data\\tsne_df_817.pkl\n",
      "Running for image id: 818\n",
      "Running for image id: 819\n"
     ]
    },
    {
     "name": "stderr",
     "output_type": "stream",
     "text": [
      " 82%|████████▏ | 309/379 [3:00:33<30:28, 26.12s/it]"
     ]
    },
    {
     "name": "stdout",
     "output_type": "stream",
     "text": [
      "Running for image id: 820\n"
     ]
    },
    {
     "name": "stderr",
     "output_type": "stream",
     "text": [
      " 82%|████████▏ | 310/379 [3:01:54<49:11, 42.77s/it]"
     ]
    },
    {
     "name": "stdout",
     "output_type": "stream",
     "text": [
      "Saved: caption_data\\cap_df_820.pkl and tsne_data\\tsne_df_820.pkl\n",
      "Running for image id: 821\n"
     ]
    },
    {
     "name": "stderr",
     "output_type": "stream",
     "text": [
      " 82%|████████▏ | 311/379 [3:03:02<56:58, 50.27s/it]"
     ]
    },
    {
     "name": "stdout",
     "output_type": "stream",
     "text": [
      "Saved: caption_data\\cap_df_821.pkl and tsne_data\\tsne_df_821.pkl\n",
      "Running for image id: 822\n"
     ]
    },
    {
     "name": "stderr",
     "output_type": "stream",
     "text": [
      " 82%|████████▏ | 312/379 [3:04:10<1:01:55, 55.45s/it]"
     ]
    },
    {
     "name": "stdout",
     "output_type": "stream",
     "text": [
      "Saved: caption_data\\cap_df_822.pkl and tsne_data\\tsne_df_822.pkl\n",
      "Running for image id: 823\n"
     ]
    },
    {
     "name": "stderr",
     "output_type": "stream",
     "text": [
      " 83%|████████▎ | 313/379 [3:05:13<1:03:40, 57.89s/it]"
     ]
    },
    {
     "name": "stdout",
     "output_type": "stream",
     "text": [
      "Saved: caption_data\\cap_df_823.pkl and tsne_data\\tsne_df_823.pkl\n",
      "Running for image id: 824\n"
     ]
    },
    {
     "name": "stderr",
     "output_type": "stream",
     "text": [
      " 83%|████████▎ | 314/379 [3:06:19<1:05:12, 60.19s/it]"
     ]
    },
    {
     "name": "stdout",
     "output_type": "stream",
     "text": [
      "Saved: caption_data\\cap_df_824.pkl and tsne_data\\tsne_df_824.pkl\n",
      "Running for image id: 825\n"
     ]
    },
    {
     "name": "stderr",
     "output_type": "stream",
     "text": [
      " 83%|████████▎ | 316/379 [3:08:16<56:43, 54.02s/it]  "
     ]
    },
    {
     "name": "stdout",
     "output_type": "stream",
     "text": [
      "Saved: caption_data\\cap_df_825.pkl and tsne_data\\tsne_df_825.pkl\n",
      "Running for image id: 826\n",
      "Running for image id: 827\n"
     ]
    },
    {
     "name": "stderr",
     "output_type": "stream",
     "text": [
      " 84%|████████▍ | 318/379 [3:09:36<44:02, 43.33s/it]  "
     ]
    },
    {
     "name": "stdout",
     "output_type": "stream",
     "text": [
      "Saved: caption_data\\cap_df_827.pkl and tsne_data\\tsne_df_827.pkl\n",
      "Running for image id: 828\n",
      "Running for image id: 829\n"
     ]
    },
    {
     "name": "stderr",
     "output_type": "stream",
     "text": [
      " 84%|████████▍ | 319/379 [3:10:43<50:31, 50.53s/it]"
     ]
    },
    {
     "name": "stdout",
     "output_type": "stream",
     "text": [
      "Saved: caption_data\\cap_df_829.pkl and tsne_data\\tsne_df_829.pkl\n",
      "Running for image id: 830\n"
     ]
    },
    {
     "name": "stderr",
     "output_type": "stream",
     "text": [
      " 84%|████████▍ | 320/379 [3:11:53<55:22, 56.31s/it]"
     ]
    },
    {
     "name": "stdout",
     "output_type": "stream",
     "text": [
      "Saved: caption_data\\cap_df_830.pkl and tsne_data\\tsne_df_830.pkl\n",
      "Running for image id: 831\n"
     ]
    },
    {
     "name": "stderr",
     "output_type": "stream",
     "text": [
      " 85%|████████▍ | 321/379 [3:12:55<56:01, 57.96s/it]"
     ]
    },
    {
     "name": "stdout",
     "output_type": "stream",
     "text": [
      "Saved: caption_data\\cap_df_831.pkl and tsne_data\\tsne_df_831.pkl\n",
      "Running for image id: 832\n"
     ]
    },
    {
     "name": "stderr",
     "output_type": "stream",
     "text": [
      " 85%|████████▍ | 322/379 [3:13:49<53:58, 56.81s/it]"
     ]
    },
    {
     "name": "stdout",
     "output_type": "stream",
     "text": [
      "Saved: caption_data\\cap_df_832.pkl and tsne_data\\tsne_df_832.pkl\n",
      "Running for image id: 833\n"
     ]
    },
    {
     "name": "stderr",
     "output_type": "stream",
     "text": [
      " 85%|████████▌ | 323/379 [3:15:19<1:02:18, 66.76s/it]"
     ]
    },
    {
     "name": "stdout",
     "output_type": "stream",
     "text": [
      "Saved: caption_data\\cap_df_833.pkl and tsne_data\\tsne_df_833.pkl\n",
      "Running for image id: 834\n"
     ]
    },
    {
     "name": "stderr",
     "output_type": "stream",
     "text": [
      " 86%|████████▌ | 325/379 [3:15:39<33:11, 36.88s/it]  "
     ]
    },
    {
     "name": "stdout",
     "output_type": "stream",
     "text": [
      "Saved: caption_data\\cap_df_834.pkl and tsne_data\\tsne_df_834.pkl\n",
      "Running for image id: 835\n",
      "Running for image id: 836\n"
     ]
    },
    {
     "name": "stderr",
     "output_type": "stream",
     "text": [
      " 86%|████████▌ | 326/379 [3:16:11<31:19, 35.47s/it]"
     ]
    },
    {
     "name": "stdout",
     "output_type": "stream",
     "text": [
      "Saved: caption_data\\cap_df_836.pkl and tsne_data\\tsne_df_836.pkl\n",
      "Running for image id: 837\n"
     ]
    },
    {
     "name": "stderr",
     "output_type": "stream",
     "text": [
      " 86%|████████▋ | 327/379 [3:17:29<41:48, 48.23s/it]"
     ]
    },
    {
     "name": "stdout",
     "output_type": "stream",
     "text": [
      "Saved: caption_data\\cap_df_837.pkl and tsne_data\\tsne_df_837.pkl\n",
      "Running for image id: 838\n"
     ]
    },
    {
     "name": "stderr",
     "output_type": "stream",
     "text": [
      " 87%|████████▋ | 328/379 [3:18:55<50:38, 59.59s/it]"
     ]
    },
    {
     "name": "stdout",
     "output_type": "stream",
     "text": [
      "Saved: caption_data\\cap_df_838.pkl and tsne_data\\tsne_df_838.pkl\n",
      "Running for image id: 839\n"
     ]
    },
    {
     "name": "stderr",
     "output_type": "stream",
     "text": [
      " 87%|████████▋ | 329/379 [3:19:50<48:37, 58.35s/it]"
     ]
    },
    {
     "name": "stdout",
     "output_type": "stream",
     "text": [
      "Saved: caption_data\\cap_df_839.pkl and tsne_data\\tsne_df_839.pkl\n",
      "Running for image id: 840\n"
     ]
    },
    {
     "name": "stderr",
     "output_type": "stream",
     "text": [
      " 87%|████████▋ | 330/379 [3:21:03<51:11, 62.68s/it]"
     ]
    },
    {
     "name": "stdout",
     "output_type": "stream",
     "text": [
      "Saved: caption_data\\cap_df_840.pkl and tsne_data\\tsne_df_840.pkl\n",
      "Running for image id: 841\n"
     ]
    },
    {
     "name": "stderr",
     "output_type": "stream",
     "text": [
      " 87%|████████▋ | 331/379 [3:22:09<50:49, 63.53s/it]"
     ]
    },
    {
     "name": "stdout",
     "output_type": "stream",
     "text": [
      "Saved: caption_data\\cap_df_841.pkl and tsne_data\\tsne_df_841.pkl\n",
      "Running for image id: 842\n"
     ]
    },
    {
     "name": "stderr",
     "output_type": "stream",
     "text": [
      " 88%|████████▊ | 332/379 [3:23:05<48:03, 61.35s/it]"
     ]
    },
    {
     "name": "stdout",
     "output_type": "stream",
     "text": [
      "Saved: caption_data\\cap_df_842.pkl and tsne_data\\tsne_df_842.pkl\n",
      "Running for image id: 843\n"
     ]
    },
    {
     "name": "stderr",
     "output_type": "stream",
     "text": [
      " 88%|████████▊ | 333/379 [3:23:54<44:12, 57.67s/it]"
     ]
    },
    {
     "name": "stdout",
     "output_type": "stream",
     "text": [
      "Saved: caption_data\\cap_df_843.pkl and tsne_data\\tsne_df_843.pkl\n",
      "Running for image id: 844\n"
     ]
    },
    {
     "name": "stderr",
     "output_type": "stream",
     "text": [
      " 88%|████████▊ | 334/379 [3:25:03<45:53, 61.19s/it]"
     ]
    },
    {
     "name": "stdout",
     "output_type": "stream",
     "text": [
      "Saved: caption_data\\cap_df_844.pkl and tsne_data\\tsne_df_844.pkl\n",
      "Running for image id: 845\n"
     ]
    },
    {
     "name": "stderr",
     "output_type": "stream",
     "text": [
      " 88%|████████▊ | 335/379 [3:26:10<46:04, 62.83s/it]"
     ]
    },
    {
     "name": "stdout",
     "output_type": "stream",
     "text": [
      "Saved: caption_data\\cap_df_845.pkl and tsne_data\\tsne_df_845.pkl\n",
      "Running for image id: 846\n"
     ]
    },
    {
     "name": "stderr",
     "output_type": "stream",
     "text": [
      " 89%|████████▊ | 336/379 [3:27:07<43:47, 61.10s/it]"
     ]
    },
    {
     "name": "stdout",
     "output_type": "stream",
     "text": [
      "Saved: caption_data\\cap_df_846.pkl and tsne_data\\tsne_df_846.pkl\n",
      "Running for image id: 847\n"
     ]
    },
    {
     "name": "stderr",
     "output_type": "stream",
     "text": [
      " 89%|████████▉ | 337/379 [3:28:26<46:26, 66.35s/it]"
     ]
    },
    {
     "name": "stdout",
     "output_type": "stream",
     "text": [
      "Saved: caption_data\\cap_df_847.pkl and tsne_data\\tsne_df_847.pkl\n",
      "Running for image id: 848\n"
     ]
    },
    {
     "name": "stderr",
     "output_type": "stream",
     "text": [
      " 89%|████████▉ | 339/379 [3:29:28<30:26, 45.66s/it]"
     ]
    },
    {
     "name": "stdout",
     "output_type": "stream",
     "text": [
      "Saved: caption_data\\cap_df_848.pkl and tsne_data\\tsne_df_848.pkl\n",
      "Running for image id: 849\n",
      "Running for image id: 850\n"
     ]
    },
    {
     "name": "stderr",
     "output_type": "stream",
     "text": [
      " 90%|████████▉ | 340/379 [3:30:36<33:55, 52.20s/it]"
     ]
    },
    {
     "name": "stdout",
     "output_type": "stream",
     "text": [
      "Saved: caption_data\\cap_df_850.pkl and tsne_data\\tsne_df_850.pkl\n",
      "Running for image id: 851\n"
     ]
    },
    {
     "name": "stderr",
     "output_type": "stream",
     "text": [
      " 90%|████████▉ | 341/379 [3:31:53<37:47, 59.67s/it]"
     ]
    },
    {
     "name": "stdout",
     "output_type": "stream",
     "text": [
      "Saved: caption_data\\cap_df_851.pkl and tsne_data\\tsne_df_851.pkl\n",
      "Running for image id: 852\n"
     ]
    },
    {
     "name": "stderr",
     "output_type": "stream",
     "text": [
      " 90%|█████████ | 342/379 [3:32:54<36:59, 59.99s/it]"
     ]
    },
    {
     "name": "stdout",
     "output_type": "stream",
     "text": [
      "Saved: caption_data\\cap_df_852.pkl and tsne_data\\tsne_df_852.pkl\n",
      "Running for image id: 853\n"
     ]
    },
    {
     "name": "stderr",
     "output_type": "stream",
     "text": [
      " 91%|█████████ | 343/379 [3:33:55<36:18, 60.51s/it]"
     ]
    },
    {
     "name": "stdout",
     "output_type": "stream",
     "text": [
      "Saved: caption_data\\cap_df_853.pkl and tsne_data\\tsne_df_853.pkl\n",
      "Running for image id: 854\n"
     ]
    },
    {
     "name": "stderr",
     "output_type": "stream",
     "text": [
      " 91%|█████████ | 344/379 [3:35:24<40:15, 69.00s/it]"
     ]
    },
    {
     "name": "stdout",
     "output_type": "stream",
     "text": [
      "Saved: caption_data\\cap_df_854.pkl and tsne_data\\tsne_df_854.pkl\n",
      "Running for image id: 855\n"
     ]
    },
    {
     "name": "stderr",
     "output_type": "stream",
     "text": [
      " 91%|█████████ | 345/379 [3:36:24<37:32, 66.24s/it]"
     ]
    },
    {
     "name": "stdout",
     "output_type": "stream",
     "text": [
      "Saved: caption_data\\cap_df_855.pkl and tsne_data\\tsne_df_855.pkl\n",
      "Running for image id: 856\n"
     ]
    },
    {
     "name": "stderr",
     "output_type": "stream",
     "text": [
      " 91%|█████████▏| 346/379 [3:37:50<39:43, 72.23s/it]"
     ]
    },
    {
     "name": "stdout",
     "output_type": "stream",
     "text": [
      "Saved: caption_data\\cap_df_856.pkl and tsne_data\\tsne_df_856.pkl\n",
      "Running for image id: 857\n"
     ]
    },
    {
     "name": "stderr",
     "output_type": "stream",
     "text": [
      " 92%|█████████▏| 347/379 [3:39:41<44:38, 83.69s/it]"
     ]
    },
    {
     "name": "stdout",
     "output_type": "stream",
     "text": [
      "Saved: caption_data\\cap_df_857.pkl and tsne_data\\tsne_df_857.pkl\n",
      "Running for image id: 858\n"
     ]
    },
    {
     "name": "stderr",
     "output_type": "stream",
     "text": [
      " 92%|█████████▏| 348/379 [3:40:33<38:28, 74.47s/it]"
     ]
    },
    {
     "name": "stdout",
     "output_type": "stream",
     "text": [
      "Saved: caption_data\\cap_df_858.pkl and tsne_data\\tsne_df_858.pkl\n",
      "Running for image id: 859\n"
     ]
    },
    {
     "name": "stderr",
     "output_type": "stream",
     "text": [
      " 92%|█████████▏| 349/379 [3:42:04<39:40, 79.34s/it]"
     ]
    },
    {
     "name": "stdout",
     "output_type": "stream",
     "text": [
      "Saved: caption_data\\cap_df_859.pkl and tsne_data\\tsne_df_859.pkl\n",
      "Running for image id: 860\n"
     ]
    },
    {
     "name": "stderr",
     "output_type": "stream",
     "text": [
      " 92%|█████████▏| 350/379 [3:43:04<35:28, 73.40s/it]"
     ]
    },
    {
     "name": "stdout",
     "output_type": "stream",
     "text": [
      "Saved: caption_data\\cap_df_860.pkl and tsne_data\\tsne_df_860.pkl\n",
      "Running for image id: 861\n"
     ]
    },
    {
     "name": "stderr",
     "output_type": "stream",
     "text": [
      " 93%|█████████▎| 351/379 [3:44:09<33:03, 70.83s/it]"
     ]
    },
    {
     "name": "stdout",
     "output_type": "stream",
     "text": [
      "Saved: caption_data\\cap_df_861.pkl and tsne_data\\tsne_df_861.pkl\n",
      "Running for image id: 862\n"
     ]
    },
    {
     "name": "stderr",
     "output_type": "stream",
     "text": [
      " 93%|█████████▎| 353/379 [3:45:09<20:30, 47.33s/it]"
     ]
    },
    {
     "name": "stdout",
     "output_type": "stream",
     "text": [
      "Saved: caption_data\\cap_df_862.pkl and tsne_data\\tsne_df_862.pkl\n",
      "Running for image id: 863\n",
      "Running for image id: 864\n"
     ]
    },
    {
     "name": "stderr",
     "output_type": "stream",
     "text": [
      " 93%|█████████▎| 354/379 [3:46:46<25:59, 62.37s/it]"
     ]
    },
    {
     "name": "stdout",
     "output_type": "stream",
     "text": [
      "Saved: caption_data\\cap_df_864.pkl and tsne_data\\tsne_df_864.pkl\n",
      "Running for image id: 865\n"
     ]
    },
    {
     "name": "stderr",
     "output_type": "stream",
     "text": [
      " 94%|█████████▎| 355/379 [3:48:00<26:18, 65.79s/it]"
     ]
    },
    {
     "name": "stdout",
     "output_type": "stream",
     "text": [
      "Saved: caption_data\\cap_df_865.pkl and tsne_data\\tsne_df_865.pkl\n",
      "Running for image id: 866\n"
     ]
    },
    {
     "name": "stderr",
     "output_type": "stream",
     "text": [
      " 94%|█████████▍| 356/379 [3:49:12<25:58, 67.78s/it]"
     ]
    },
    {
     "name": "stdout",
     "output_type": "stream",
     "text": [
      "Saved: caption_data\\cap_df_866.pkl and tsne_data\\tsne_df_866.pkl\n",
      "Running for image id: 867\n"
     ]
    },
    {
     "name": "stderr",
     "output_type": "stream",
     "text": [
      " 94%|█████████▍| 357/379 [3:50:37<26:41, 72.81s/it]"
     ]
    },
    {
     "name": "stdout",
     "output_type": "stream",
     "text": [
      "Saved: caption_data\\cap_df_867.pkl and tsne_data\\tsne_df_867.pkl\n",
      "Running for image id: 868\n"
     ]
    },
    {
     "name": "stderr",
     "output_type": "stream",
     "text": [
      " 94%|█████████▍| 358/379 [3:52:32<29:54, 85.46s/it]"
     ]
    },
    {
     "name": "stdout",
     "output_type": "stream",
     "text": [
      "Saved: caption_data\\cap_df_868.pkl and tsne_data\\tsne_df_868.pkl\n",
      "Running for image id: 869\n"
     ]
    },
    {
     "name": "stderr",
     "output_type": "stream",
     "text": [
      " 95%|█████████▍| 359/379 [3:53:59<28:42, 86.13s/it]"
     ]
    },
    {
     "name": "stdout",
     "output_type": "stream",
     "text": [
      "Saved: caption_data\\cap_df_869.pkl and tsne_data\\tsne_df_869.pkl\n",
      "Running for image id: 870\n"
     ]
    },
    {
     "name": "stderr",
     "output_type": "stream",
     "text": [
      " 95%|█████████▍| 360/379 [3:54:53<24:10, 76.34s/it]"
     ]
    },
    {
     "name": "stdout",
     "output_type": "stream",
     "text": [
      "Saved: caption_data\\cap_df_870.pkl and tsne_data\\tsne_df_870.pkl\n",
      "Running for image id: 871\n"
     ]
    },
    {
     "name": "stderr",
     "output_type": "stream",
     "text": [
      " 95%|█████████▌| 361/379 [3:54:53<16:02, 53.50s/it]"
     ]
    },
    {
     "name": "stdout",
     "output_type": "stream",
     "text": [
      "Running for image id: 872\n"
     ]
    },
    {
     "name": "stderr",
     "output_type": "stream",
     "text": [
      " 96%|█████████▌| 362/379 [3:56:25<18:23, 64.92s/it]"
     ]
    },
    {
     "name": "stdout",
     "output_type": "stream",
     "text": [
      "Saved: caption_data\\cap_df_872.pkl and tsne_data\\tsne_df_872.pkl\n",
      "Running for image id: 873\n"
     ]
    },
    {
     "name": "stderr",
     "output_type": "stream",
     "text": [
      " 96%|█████████▌| 364/379 [3:57:45<12:10, 48.72s/it]"
     ]
    },
    {
     "name": "stdout",
     "output_type": "stream",
     "text": [
      "Saved: caption_data\\cap_df_873.pkl and tsne_data\\tsne_df_873.pkl\n",
      "Running for image id: 874\n",
      "Running for image id: 875\n"
     ]
    },
    {
     "name": "stderr",
     "output_type": "stream",
     "text": [
      " 96%|█████████▋| 365/379 [3:58:57<12:59, 55.67s/it]"
     ]
    },
    {
     "name": "stdout",
     "output_type": "stream",
     "text": [
      "Saved: caption_data\\cap_df_875.pkl and tsne_data\\tsne_df_875.pkl\n",
      "Running for image id: 876\n"
     ]
    },
    {
     "name": "stderr",
     "output_type": "stream",
     "text": [
      " 97%|█████████▋| 366/379 [3:59:57<12:19, 56.90s/it]"
     ]
    },
    {
     "name": "stdout",
     "output_type": "stream",
     "text": [
      "Saved: caption_data\\cap_df_876.pkl and tsne_data\\tsne_df_876.pkl\n",
      "Running for image id: 877\n"
     ]
    },
    {
     "name": "stderr",
     "output_type": "stream",
     "text": [
      " 97%|█████████▋| 368/379 [4:00:46<07:00, 38.26s/it]"
     ]
    },
    {
     "name": "stdout",
     "output_type": "stream",
     "text": [
      "Saved: caption_data\\cap_df_877.pkl and tsne_data\\tsne_df_877.pkl\n",
      "Running for image id: 878\n"
     ]
    },
    {
     "name": "stderr",
     "output_type": "stream",
     "text": [
      " 97%|█████████▋| 369/379 [4:00:46<04:28, 26.83s/it]"
     ]
    },
    {
     "name": "stdout",
     "output_type": "stream",
     "text": [
      "Running for image id: 879\n",
      "Running for image id: 880\n"
     ]
    },
    {
     "name": "stderr",
     "output_type": "stream",
     "text": [
      " 98%|█████████▊| 370/379 [4:02:21<07:04, 47.18s/it]"
     ]
    },
    {
     "name": "stdout",
     "output_type": "stream",
     "text": [
      "Saved: caption_data\\cap_df_880.pkl and tsne_data\\tsne_df_880.pkl\n",
      "Running for image id: 881\n"
     ]
    },
    {
     "name": "stderr",
     "output_type": "stream",
     "text": [
      " 98%|█████████▊| 371/379 [4:04:08<08:40, 65.05s/it]"
     ]
    },
    {
     "name": "stdout",
     "output_type": "stream",
     "text": [
      "Saved: caption_data\\cap_df_881.pkl and tsne_data\\tsne_df_881.pkl\n",
      "Running for image id: 882\n"
     ]
    },
    {
     "name": "stderr",
     "output_type": "stream",
     "text": [
      " 98%|█████████▊| 372/379 [4:05:27<08:04, 69.22s/it]"
     ]
    },
    {
     "name": "stdout",
     "output_type": "stream",
     "text": [
      "Saved: caption_data\\cap_df_882.pkl and tsne_data\\tsne_df_882.pkl\n",
      "Running for image id: 883\n"
     ]
    },
    {
     "name": "stderr",
     "output_type": "stream",
     "text": [
      " 98%|█████████▊| 373/379 [4:06:57<07:33, 75.57s/it]"
     ]
    },
    {
     "name": "stdout",
     "output_type": "stream",
     "text": [
      "Saved: caption_data\\cap_df_883.pkl and tsne_data\\tsne_df_883.pkl\n",
      "Running for image id: 884\n"
     ]
    },
    {
     "name": "stderr",
     "output_type": "stream",
     "text": [
      " 99%|█████████▊| 374/379 [4:08:21<06:29, 77.95s/it]"
     ]
    },
    {
     "name": "stdout",
     "output_type": "stream",
     "text": [
      "Saved: caption_data\\cap_df_884.pkl and tsne_data\\tsne_df_884.pkl\n",
      "Running for image id: 885\n"
     ]
    },
    {
     "name": "stderr",
     "output_type": "stream",
     "text": [
      " 99%|█████████▉| 375/379 [4:09:40<05:13, 78.27s/it]"
     ]
    },
    {
     "name": "stdout",
     "output_type": "stream",
     "text": [
      "Saved: caption_data\\cap_df_885.pkl and tsne_data\\tsne_df_885.pkl\n",
      "Running for image id: 886\n"
     ]
    },
    {
     "name": "stderr",
     "output_type": "stream",
     "text": [
      " 99%|█████████▉| 376/379 [4:10:41<03:39, 73.17s/it]"
     ]
    },
    {
     "name": "stdout",
     "output_type": "stream",
     "text": [
      "Saved: caption_data\\cap_df_886.pkl and tsne_data\\tsne_df_886.pkl\n",
      "Running for image id: 887\n"
     ]
    },
    {
     "name": "stderr",
     "output_type": "stream",
     "text": [
      " 99%|█████████▉| 377/379 [4:11:58<02:28, 74.23s/it]"
     ]
    },
    {
     "name": "stdout",
     "output_type": "stream",
     "text": [
      "Saved: caption_data\\cap_df_887.pkl and tsne_data\\tsne_df_887.pkl\n",
      "Running for image id: 888\n"
     ]
    },
    {
     "name": "stderr",
     "output_type": "stream",
     "text": [
      "100%|█████████▉| 378/379 [4:13:11<01:14, 74.06s/it]"
     ]
    },
    {
     "name": "stdout",
     "output_type": "stream",
     "text": [
      "Saved: caption_data\\cap_df_888.pkl and tsne_data\\tsne_df_888.pkl\n",
      "Running for image id: 889\n"
     ]
    },
    {
     "name": "stderr",
     "output_type": "stream",
     "text": [
      "100%|██████████| 379/379 [4:14:54<00:00, 40.35s/it]"
     ]
    },
    {
     "name": "stdout",
     "output_type": "stream",
     "text": [
      "Saved: caption_data\\cap_df_889.pkl and tsne_data\\tsne_df_889.pkl\n",
      "cap_failed_ids: ['661', '669', '670', '671', '675', '691', '692', '693', '694', '695', '696', '698', '702', '704', '707', '709', '711', '712', '713', '715', '716', '721', '731', '748', '752', '760', '769', '771', '772', '782', '793', '814', '815', '818', '819', '826', '828', '835', '849', '863', '871', '874', '878', '879']\n",
      "tsne_failed_ids: []\n",
      "Equal: False\n"
     ]
    },
    {
     "name": "stderr",
     "output_type": "stream",
     "text": [
      "\n"
     ]
    },
    {
     "data": {
      "text/plain": [
       "(['661',\n",
       "  '669',\n",
       "  '670',\n",
       "  '671',\n",
       "  '675',\n",
       "  '691',\n",
       "  '692',\n",
       "  '693',\n",
       "  '694',\n",
       "  '695',\n",
       "  '696',\n",
       "  '698',\n",
       "  '702',\n",
       "  '704',\n",
       "  '707',\n",
       "  '709',\n",
       "  '711',\n",
       "  '712',\n",
       "  '713',\n",
       "  '715',\n",
       "  '716',\n",
       "  '721',\n",
       "  '731',\n",
       "  '748',\n",
       "  '752',\n",
       "  '760',\n",
       "  '769',\n",
       "  '771',\n",
       "  '772',\n",
       "  '782',\n",
       "  '793',\n",
       "  '814',\n",
       "  '815',\n",
       "  '818',\n",
       "  '819',\n",
       "  '826',\n",
       "  '828',\n",
       "  '835',\n",
       "  '849',\n",
       "  '863',\n",
       "  '871',\n",
       "  '874',\n",
       "  '878',\n",
       "  '879'],\n",
       " [])"
      ]
     },
     "execution_count": 14,
     "metadata": {},
     "output_type": "execute_result"
    }
   ],
   "source": [
    "process_dataset(id_list, img_paths, cap_paths)"
   ]
  },
  {
   "cell_type": "code",
   "execution_count": 15,
   "metadata": {},
   "outputs": [],
   "source": [
    "# tsne_df, condensed_cap_df = process_dataset_tsne(id_list, img_paths, cap_paths)\n",
    "# tsne_df.head(5)"
   ]
  },
  {
   "cell_type": "markdown",
   "metadata": {},
   "source": [
    "In terms of preprocessing, we will likely want to save the original dataset dataframes without the precison or score breakdown columns. The TSNE dataframe above can be saved as is since it should be possible to filter for the correct img_id when necessary. "
   ]
  },
  {
   "cell_type": "code",
   "execution_count": 16,
   "metadata": {},
   "outputs": [],
   "source": [
    "# condensed_cap_df.head(5)"
   ]
  },
  {
   "cell_type": "markdown",
   "metadata": {},
   "source": [
    "# Feed Forward Network"
   ]
  },
  {
   "cell_type": "code",
   "execution_count": null,
   "metadata": {},
   "outputs": [],
   "source": []
  }
 ],
 "metadata": {
  "kernelspec": {
   "display_name": "NewYorker",
   "language": "python",
   "name": "python3"
  },
  "language_info": {
   "codemirror_mode": {
    "name": "ipython",
    "version": 3
   },
   "file_extension": ".py",
   "mimetype": "text/x-python",
   "name": "python",
   "nbconvert_exporter": "python",
   "pygments_lexer": "ipython3",
   "version": "3.8.16"
  }
 },
 "nbformat": 4,
 "nbformat_minor": 2
}
